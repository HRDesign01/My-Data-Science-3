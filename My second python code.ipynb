{
 "cells": [
  {
   "cell_type": "code",
   "execution_count": 4,
   "id": "e60b02fa",
   "metadata": {},
   "outputs": [
    {
     "name": "stdout",
     "output_type": "stream",
     "text": [
      "Margaret\n"
     ]
    }
   ],
   "source": [
    "print(\"Margaret\")"
   ]
  },
  {
   "cell_type": "code",
   "execution_count": 2,
   "id": "ecf46dde",
   "metadata": {},
   "outputs": [
    {
     "name": "stdout",
     "output_type": "stream",
     "text": [
      "Hammed\n"
     ]
    }
   ],
   "source": [
    "print(\"Hammed\")"
   ]
  },
  {
   "cell_type": "code",
   "execution_count": 3,
   "id": "52273568",
   "metadata": {},
   "outputs": [
    {
     "name": "stdout",
     "output_type": "stream",
     "text": [
      "Margaret\n"
     ]
    }
   ],
   "source": [
    "print(\"Margaret\")"
   ]
  },
  {
   "cell_type": "code",
   "execution_count": 5,
   "id": "0bf0e399",
   "metadata": {},
   "outputs": [
    {
     "name": "stdout",
     "output_type": "stream",
     "text": [
      "How was day\n"
     ]
    }
   ],
   "source": [
    "hello=(\"How was day\")\n",
    "print(hello)"
   ]
  },
  {
   "cell_type": "code",
   "execution_count": 7,
   "id": "414b5ab4",
   "metadata": {},
   "outputs": [
    {
     "name": "stdout",
     "output_type": "stream",
     "text": [
      "It is football day\n"
     ]
    }
   ],
   "source": [
    "hello=(\"It is football day\")\n",
    "print(hello)"
   ]
  },
  {
   "cell_type": "code",
   "execution_count": 8,
   "id": "8cbd6d26",
   "metadata": {},
   "outputs": [
    {
     "name": "stdout",
     "output_type": "stream",
     "text": [
      "Arsenal\n"
     ]
    }
   ],
   "source": [
    "print(\"Arsenal\")"
   ]
  },
  {
   "cell_type": "code",
   "execution_count": 9,
   "id": "b6e01bd6",
   "metadata": {},
   "outputs": [
    {
     "name": "stdout",
     "output_type": "stream",
     "text": [
      "Arsenal Gunnaz\n"
     ]
    }
   ],
   "source": [
    "hello=(\"Arsenal Gunnaz\")\n",
    "print(hello)"
   ]
  },
  {
   "cell_type": "code",
   "execution_count": null,
   "id": "c0f2b7e7",
   "metadata": {},
   "outputs": [],
   "source": []
  }
 ],
 "metadata": {
  "kernelspec": {
   "display_name": "Python 3 (ipykernel)",
   "language": "python",
   "name": "python3"
  },
  "language_info": {
   "codemirror_mode": {
    "name": "ipython",
    "version": 3
   },
   "file_extension": ".py",
   "mimetype": "text/x-python",
   "name": "python",
   "nbconvert_exporter": "python",
   "pygments_lexer": "ipython3",
   "version": "3.10.9"
  }
 },
 "nbformat": 4,
 "nbformat_minor": 5
}
