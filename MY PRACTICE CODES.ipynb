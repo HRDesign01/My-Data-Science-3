{
 "cells": [
  {
   "cell_type": "markdown",
   "id": "abf2301b",
   "metadata": {},
   "source": [
    "RANGE BETWEEN 3 NUMBERS"
   ]
  },
  {
   "cell_type": "code",
   "execution_count": 1,
   "id": "3dd844e5",
   "metadata": {},
   "outputs": [
    {
     "name": "stdout",
     "output_type": "stream",
     "text": [
      "0\n",
      "2\n",
      "4\n",
      "6\n",
      "8\n",
      "10\n"
     ]
    }
   ],
   "source": [
    "for i in range(0,12,2):\n",
    "    print(i)"
   ]
  },
  {
   "cell_type": "markdown",
   "id": "84bdf16a",
   "metadata": {},
   "source": [
    "RANGE BETWEEN 2 NUMBERS"
   ]
  },
  {
   "cell_type": "code",
   "execution_count": 2,
   "id": "0f9ead04",
   "metadata": {},
   "outputs": [
    {
     "name": "stdout",
     "output_type": "stream",
     "text": [
      "1\n",
      "2\n",
      "3\n",
      "4\n",
      "5\n",
      "6\n",
      "7\n",
      "8\n",
      "9\n",
      "10\n"
     ]
    }
   ],
   "source": [
    "for i in range(1,11):\n",
    "    print(i)"
   ]
  },
  {
   "cell_type": "code",
   "execution_count": 3,
   "id": "6eea4f1f",
   "metadata": {},
   "outputs": [
    {
     "name": "stdout",
     "output_type": "stream",
     "text": [
      "1\n",
      "4\n",
      "7\n",
      "10\n",
      "13\n"
     ]
    }
   ],
   "source": [
    "for i in range(1,15,3):\n",
    "    print(i)"
   ]
  },
  {
   "cell_type": "code",
   "execution_count": 4,
   "id": "44d985bc",
   "metadata": {},
   "outputs": [
    {
     "name": "stdout",
     "output_type": "stream",
     "text": [
      "0\n",
      "1\n",
      "2\n",
      "3\n",
      "4\n"
     ]
    }
   ],
   "source": [
    "for i in range(5):\n",
    "    print(i)"
   ]
  },
  {
   "cell_type": "markdown",
   "id": "a6460df6",
   "metadata": {},
   "source": [
    "FOR LOOP SINGLE RANGE MULTIPLICATION"
   ]
  },
  {
   "cell_type": "code",
   "execution_count": 6,
   "id": "697c70df",
   "metadata": {},
   "outputs": [
    {
     "name": "stdout",
     "output_type": "stream",
     "text": [
      "Enter a number5\n",
      "0\n",
      "5\n",
      "10\n",
      "15\n",
      "20\n"
     ]
    }
   ],
   "source": [
    "j=int(input(\"Enter a number\"))\n",
    "for i in range(5):\n",
    "    print(j*i)"
   ]
  },
  {
   "cell_type": "markdown",
   "id": "91b9b711",
   "metadata": {},
   "source": [
    "WHILE LOOP FOR MULTIPLICATION"
   ]
  },
  {
   "cell_type": "code",
   "execution_count": 8,
   "id": "51f8f849",
   "metadata": {},
   "outputs": [
    {
     "name": "stdout",
     "output_type": "stream",
     "text": [
      "Enter a number6\n",
      "6\n",
      "12\n",
      "18\n",
      "24\n",
      "30\n",
      "36\n",
      "42\n",
      "48\n",
      "54\n",
      "60\n",
      "66\n",
      "72\n"
     ]
    }
   ],
   "source": [
    "i=1\n",
    "j=int(input(\"Enter a number\"))\n",
    "while(i<=12):\n",
    "    print(i*j)\n",
    "    i=i+1"
   ]
  },
  {
   "cell_type": "markdown",
   "id": "a24ebd50",
   "metadata": {},
   "source": [
    "FOR LOOP USED FOR MULTIPLICATION"
   ]
  },
  {
   "cell_type": "code",
   "execution_count": 7,
   "id": "143e0ae6",
   "metadata": {},
   "outputs": [
    {
     "name": "stdout",
     "output_type": "stream",
     "text": [
      "Enter a number6\n",
      "6\n",
      "12\n",
      "18\n",
      "24\n",
      "30\n",
      "36\n",
      "42\n",
      "48\n",
      "54\n",
      "60\n",
      "66\n"
     ]
    }
   ],
   "source": [
    "j=int(input(\"Enter a number\"))\n",
    "for i in range(1,12):\n",
    "    print(j*i)"
   ]
  },
  {
   "cell_type": "markdown",
   "id": "e0e24ab9",
   "metadata": {},
   "source": [
    "TO GET EVEN AND ODD NUMBERS USING %2==0 "
   ]
  },
  {
   "cell_type": "code",
   "execution_count": 10,
   "id": "c7ed012b",
   "metadata": {},
   "outputs": [
    {
     "name": "stdout",
     "output_type": "stream",
     "text": [
      "Enter a number5\n",
      "Number is Odd\n"
     ]
    }
   ],
   "source": [
    "Number=int(input(\"Enter a number\"))\n",
    "if (Number%2==0):\n",
    "    print(\"Number is Even\")\n",
    "else :\n",
    "    print(\"Number is Odd\")"
   ]
  },
  {
   "cell_type": "markdown",
   "id": "8d619ca9",
   "metadata": {},
   "source": [
    "TO GET ODD AND EVEN NUMBERS USING %2!=0"
   ]
  },
  {
   "cell_type": "code",
   "execution_count": 15,
   "id": "496500e7",
   "metadata": {},
   "outputs": [
    {
     "name": "stdout",
     "output_type": "stream",
     "text": [
      "Enter a number7\n",
      "Figure is Odd\n"
     ]
    }
   ],
   "source": [
    "Figure=int(input(\"Enter a number\"))\n",
    "if (Figure%2!=0):\n",
    "    print(\"Figure is Odd\")\n",
    "else :\n",
    "    print(\"Figure is Even\")"
   ]
  },
  {
   "cell_type": "markdown",
   "id": "759b8b67",
   "metadata": {},
   "source": [
    "IF AND ELIF WITH RANGE"
   ]
  },
  {
   "cell_type": "code",
   "execution_count": 16,
   "id": "2f22eb94",
   "metadata": {},
   "outputs": [
    {
     "name": "stdout",
     "output_type": "stream",
     "text": [
      "Enter a number67\n",
      "Average\n",
      "Enter a number89\n",
      "Very Good\n",
      "Enter a number90\n",
      "Very Good\n",
      "Enter a number63\n",
      "Average\n",
      "Enter a number23\n",
      "POOR\n",
      "Enter a number56\n",
      "PASS\n"
     ]
    }
   ],
   "source": [
    "for i in range(6):\n",
    "    \n",
    "    marks=int(input(\"Enter a number\"))\n",
    "    if(marks > 90):\n",
    "        print(\"Excellent\")\n",
    "    elif(marks > 80 and marks <=90):\n",
    "        print(\"Very Good\")\n",
    "    elif(marks > 70 and marks <=80):\n",
    "        print(\"Good\")\n",
    "    elif(marks> 60 and marks<=70):\n",
    "        print(\"Average\")\n",
    "    elif(marks > 50 and marks <=60):\n",
    "        print(\"PASS\")\n",
    "    else :\n",
    "        print(\"POOR\")"
   ]
  },
  {
   "cell_type": "code",
   "execution_count": 21,
   "id": "a7c293c1",
   "metadata": {},
   "outputs": [
    {
     "ename": "SyntaxError",
     "evalue": "invalid syntax (4130111100.py, line 1)",
     "output_type": "error",
     "traceback": [
      "\u001b[1;36m  Cell \u001b[1;32mIn[21], line 1\u001b[1;36m\u001b[0m\n\u001b[1;33m    pvar=for i in [34,67,89]\u001b[0m\n\u001b[1;37m         ^\u001b[0m\n\u001b[1;31mSyntaxError\u001b[0m\u001b[1;31m:\u001b[0m invalid syntax\n"
     ]
    }
   ],
   "source": [
    "pvar=for i in [34,67,89]"
   ]
  },
  {
   "cell_type": "code",
   "execution_count": null,
   "id": "3312c187",
   "metadata": {},
   "outputs": [],
   "source": []
  },
  {
   "cell_type": "code",
   "execution_count": 26,
   "id": "86219f89",
   "metadata": {},
   "outputs": [],
   "source": [
    "k=[i for i in range(2,11) if (i%2==0)] "
   ]
  },
  {
   "cell_type": "code",
   "execution_count": 24,
   "id": "485fc183",
   "metadata": {},
   "outputs": [
    {
     "data": {
      "text/plain": [
       "[2, 4, 6, 8, 10]"
      ]
     },
     "execution_count": 24,
     "metadata": {},
     "output_type": "execute_result"
    }
   ],
   "source": [
    "k"
   ]
  },
  {
   "cell_type": "code",
   "execution_count": 11,
   "id": "97bb9706",
   "metadata": {},
   "outputs": [],
   "source": [
    "import pandas as pd"
   ]
  },
  {
   "cell_type": "code",
   "execution_count": 1,
   "id": "706dba6d",
   "metadata": {},
   "outputs": [],
   "source": [
    "import numpy as np"
   ]
  },
  {
   "cell_type": "code",
   "execution_count": 2,
   "id": "e3ac51f1",
   "metadata": {},
   "outputs": [],
   "source": [
    "d2=np.arange(20)"
   ]
  },
  {
   "cell_type": "code",
   "execution_count": 3,
   "id": "9a4a49cd",
   "metadata": {},
   "outputs": [
    {
     "data": {
      "text/plain": [
       "array([ 0,  1,  2,  3,  4,  5,  6,  7,  8,  9, 10, 11, 12, 13, 14, 15, 16,\n",
       "       17, 18, 19])"
      ]
     },
     "execution_count": 3,
     "metadata": {},
     "output_type": "execute_result"
    }
   ],
   "source": [
    "d2"
   ]
  },
  {
   "cell_type": "code",
   "execution_count": 4,
   "id": "3402d542",
   "metadata": {},
   "outputs": [
    {
     "data": {
      "text/plain": [
       "array([16, 17, 18, 19])"
      ]
     },
     "execution_count": 4,
     "metadata": {},
     "output_type": "execute_result"
    }
   ],
   "source": [
    "d2[-4:]"
   ]
  },
  {
   "cell_type": "code",
   "execution_count": 8,
   "id": "1d08a405",
   "metadata": {},
   "outputs": [
    {
     "data": {
      "text/plain": [
       "array([16, 17])"
      ]
     },
     "execution_count": 8,
     "metadata": {},
     "output_type": "execute_result"
    }
   ],
   "source": [
    "d2[-4:-2]"
   ]
  },
  {
   "cell_type": "code",
   "execution_count": 9,
   "id": "361d4c94",
   "metadata": {},
   "outputs": [
    {
     "data": {
      "text/plain": [
       "array([ 5,  6,  7,  8,  9, 10, 11, 12, 13, 14, 15, 16, 17, 18, 19])"
      ]
     },
     "execution_count": 9,
     "metadata": {},
     "output_type": "execute_result"
    }
   ],
   "source": [
    "d2[5:]"
   ]
  },
  {
   "cell_type": "code",
   "execution_count": 10,
   "id": "d6416862",
   "metadata": {},
   "outputs": [
    {
     "data": {
      "text/plain": [
       "array([0, 1])"
      ]
     },
     "execution_count": 10,
     "metadata": {},
     "output_type": "execute_result"
    }
   ],
   "source": [
    "d2[:2]"
   ]
  },
  {
   "cell_type": "code",
   "execution_count": 19,
   "id": "a889cc58",
   "metadata": {},
   "outputs": [],
   "source": [
    "h=pd.Series([1,2,3,4,5,6], index=[1,2,3,4,5,6])"
   ]
  },
  {
   "cell_type": "code",
   "execution_count": 20,
   "id": "6982dabd",
   "metadata": {},
   "outputs": [
    {
     "data": {
      "text/plain": [
       "1    1\n",
       "2    2\n",
       "3    3\n",
       "4    4\n",
       "5    5\n",
       "6    6\n",
       "dtype: int64"
      ]
     },
     "execution_count": 20,
     "metadata": {},
     "output_type": "execute_result"
    }
   ],
   "source": [
    "h"
   ]
  },
  {
   "cell_type": "code",
   "execution_count": 22,
   "id": "beadfa9d",
   "metadata": {},
   "outputs": [],
   "source": [
    "dict1={'sno':[101,102,103,104,105,106],'Name':['Hammed','Balikis','Soliu','Habeeb','Mariam','TT']}"
   ]
  },
  {
   "cell_type": "code",
   "execution_count": 23,
   "id": "4fd0c37d",
   "metadata": {},
   "outputs": [
    {
     "data": {
      "text/plain": [
       "{'sno': [101, 102, 103, 104, 105, 106],\n",
       " 'Name': ['Hammed', 'Balikis', 'Soliu', 'Habeeb', 'Mariam', 'TT']}"
      ]
     },
     "execution_count": 23,
     "metadata": {},
     "output_type": "execute_result"
    }
   ],
   "source": [
    "dict1"
   ]
  },
  {
   "cell_type": "code",
   "execution_count": 24,
   "id": "fefa4442",
   "metadata": {},
   "outputs": [
    {
     "data": {
      "text/plain": [
       "sno                   [101, 102, 103, 104, 105, 106]\n",
       "Name    [Hammed, Balikis, Soliu, Habeeb, Mariam, TT]\n",
       "dtype: object"
      ]
     },
     "execution_count": 24,
     "metadata": {},
     "output_type": "execute_result"
    }
   ],
   "source": [
    "pd.Series(dict1)"
   ]
  },
  {
   "cell_type": "code",
   "execution_count": 25,
   "id": "7233d13c",
   "metadata": {},
   "outputs": [
    {
     "data": {
      "text/html": [
       "<div>\n",
       "<style scoped>\n",
       "    .dataframe tbody tr th:only-of-type {\n",
       "        vertical-align: middle;\n",
       "    }\n",
       "\n",
       "    .dataframe tbody tr th {\n",
       "        vertical-align: top;\n",
       "    }\n",
       "\n",
       "    .dataframe thead th {\n",
       "        text-align: right;\n",
       "    }\n",
       "</style>\n",
       "<table border=\"1\" class=\"dataframe\">\n",
       "  <thead>\n",
       "    <tr style=\"text-align: right;\">\n",
       "      <th></th>\n",
       "      <th>sno</th>\n",
       "      <th>Name</th>\n",
       "    </tr>\n",
       "  </thead>\n",
       "  <tbody>\n",
       "    <tr>\n",
       "      <th>0</th>\n",
       "      <td>101</td>\n",
       "      <td>Hammed</td>\n",
       "    </tr>\n",
       "    <tr>\n",
       "      <th>1</th>\n",
       "      <td>102</td>\n",
       "      <td>Balikis</td>\n",
       "    </tr>\n",
       "    <tr>\n",
       "      <th>2</th>\n",
       "      <td>103</td>\n",
       "      <td>Soliu</td>\n",
       "    </tr>\n",
       "    <tr>\n",
       "      <th>3</th>\n",
       "      <td>104</td>\n",
       "      <td>Habeeb</td>\n",
       "    </tr>\n",
       "    <tr>\n",
       "      <th>4</th>\n",
       "      <td>105</td>\n",
       "      <td>Mariam</td>\n",
       "    </tr>\n",
       "    <tr>\n",
       "      <th>5</th>\n",
       "      <td>106</td>\n",
       "      <td>TT</td>\n",
       "    </tr>\n",
       "  </tbody>\n",
       "</table>\n",
       "</div>"
      ],
      "text/plain": [
       "   sno     Name\n",
       "0  101   Hammed\n",
       "1  102  Balikis\n",
       "2  103    Soliu\n",
       "3  104   Habeeb\n",
       "4  105   Mariam\n",
       "5  106       TT"
      ]
     },
     "execution_count": 25,
     "metadata": {},
     "output_type": "execute_result"
    }
   ],
   "source": [
    "pd.DataFrame(dict1)"
   ]
  },
  {
   "cell_type": "code",
   "execution_count": 27,
   "id": "38db05a6",
   "metadata": {},
   "outputs": [],
   "source": [
    "a=[['Balikis',29],['Hammed',29],['Soliu',24],['Habeeb',27]]"
   ]
  },
  {
   "cell_type": "code",
   "execution_count": 28,
   "id": "0c78ba63",
   "metadata": {},
   "outputs": [
    {
     "data": {
      "text/plain": [
       "[['Balikis', 29], ['Hammed', 29], ['Soliu', 24], ['Habeeb', 27]]"
      ]
     },
     "execution_count": 28,
     "metadata": {},
     "output_type": "execute_result"
    }
   ],
   "source": [
    "a"
   ]
  },
  {
   "cell_type": "code",
   "execution_count": 29,
   "id": "b33506d8",
   "metadata": {},
   "outputs": [
    {
     "data": {
      "text/html": [
       "<div>\n",
       "<style scoped>\n",
       "    .dataframe tbody tr th:only-of-type {\n",
       "        vertical-align: middle;\n",
       "    }\n",
       "\n",
       "    .dataframe tbody tr th {\n",
       "        vertical-align: top;\n",
       "    }\n",
       "\n",
       "    .dataframe thead th {\n",
       "        text-align: right;\n",
       "    }\n",
       "</style>\n",
       "<table border=\"1\" class=\"dataframe\">\n",
       "  <thead>\n",
       "    <tr style=\"text-align: right;\">\n",
       "      <th></th>\n",
       "      <th>0</th>\n",
       "      <th>1</th>\n",
       "    </tr>\n",
       "  </thead>\n",
       "  <tbody>\n",
       "    <tr>\n",
       "      <th>0</th>\n",
       "      <td>Balikis</td>\n",
       "      <td>29</td>\n",
       "    </tr>\n",
       "    <tr>\n",
       "      <th>1</th>\n",
       "      <td>Hammed</td>\n",
       "      <td>29</td>\n",
       "    </tr>\n",
       "    <tr>\n",
       "      <th>2</th>\n",
       "      <td>Soliu</td>\n",
       "      <td>24</td>\n",
       "    </tr>\n",
       "    <tr>\n",
       "      <th>3</th>\n",
       "      <td>Habeeb</td>\n",
       "      <td>27</td>\n",
       "    </tr>\n",
       "  </tbody>\n",
       "</table>\n",
       "</div>"
      ],
      "text/plain": [
       "         0   1\n",
       "0  Balikis  29\n",
       "1   Hammed  29\n",
       "2    Soliu  24\n",
       "3   Habeeb  27"
      ]
     },
     "execution_count": 29,
     "metadata": {},
     "output_type": "execute_result"
    }
   ],
   "source": [
    "pd.DataFrame(a)"
   ]
  },
  {
   "cell_type": "code",
   "execution_count": 32,
   "id": "5e37df62",
   "metadata": {},
   "outputs": [
    {
     "data": {
      "text/html": [
       "<div>\n",
       "<style scoped>\n",
       "    .dataframe tbody tr th:only-of-type {\n",
       "        vertical-align: middle;\n",
       "    }\n",
       "\n",
       "    .dataframe tbody tr th {\n",
       "        vertical-align: top;\n",
       "    }\n",
       "\n",
       "    .dataframe thead th {\n",
       "        text-align: right;\n",
       "    }\n",
       "</style>\n",
       "<table border=\"1\" class=\"dataframe\">\n",
       "  <thead>\n",
       "    <tr style=\"text-align: right;\">\n",
       "      <th></th>\n",
       "      <th>Name</th>\n",
       "      <th>Age</th>\n",
       "    </tr>\n",
       "  </thead>\n",
       "  <tbody>\n",
       "    <tr>\n",
       "      <th>1</th>\n",
       "      <td>Balikis</td>\n",
       "      <td>29</td>\n",
       "    </tr>\n",
       "    <tr>\n",
       "      <th>2</th>\n",
       "      <td>Hammed</td>\n",
       "      <td>29</td>\n",
       "    </tr>\n",
       "    <tr>\n",
       "      <th>3</th>\n",
       "      <td>Soliu</td>\n",
       "      <td>24</td>\n",
       "    </tr>\n",
       "    <tr>\n",
       "      <th>4</th>\n",
       "      <td>Habeeb</td>\n",
       "      <td>27</td>\n",
       "    </tr>\n",
       "  </tbody>\n",
       "</table>\n",
       "</div>"
      ],
      "text/plain": [
       "      Name  Age\n",
       "1  Balikis   29\n",
       "2   Hammed   29\n",
       "3    Soliu   24\n",
       "4   Habeeb   27"
      ]
     },
     "execution_count": 32,
     "metadata": {},
     "output_type": "execute_result"
    }
   ],
   "source": [
    "pd.DataFrame(a,index=[1,2,3,4],columns=['Name','Age'])"
   ]
  },
  {
   "cell_type": "code",
   "execution_count": 35,
   "id": "133591d9",
   "metadata": {},
   "outputs": [],
   "source": [
    "gh=pd.DataFrame(np.random.rand(10,4),columns=['a','b','c','d'])"
   ]
  },
  {
   "cell_type": "code",
   "execution_count": 37,
   "id": "fdacd3ec",
   "metadata": {},
   "outputs": [
    {
     "name": "stdout",
     "output_type": "stream",
     "text": [
      "          a         b         c         d\n",
      "0  0.448318  0.647135  0.555483  0.201384\n",
      "1  0.476733  0.455313  0.534202  0.262544\n",
      "2  0.439008  0.874016  0.822357  0.691606\n",
      "3  0.933890  0.461551  0.797495  0.310843\n",
      "4  0.468648  0.304780  0.057490  0.140666\n",
      "5  0.038821  0.471898  0.808449  0.283219\n",
      "6  0.103592  0.117715  0.910750  0.596482\n",
      "7  0.095422  0.010135  0.403535  0.174987\n",
      "8  0.186857  0.575174  0.279988  0.814643\n",
      "9  0.131951  0.063926  0.790709  0.076648\n"
     ]
    }
   ],
   "source": [
    "print(gh)"
   ]
  },
  {
   "cell_type": "code",
   "execution_count": 38,
   "id": "06589f7e",
   "metadata": {},
   "outputs": [
    {
     "data": {
      "text/plain": [
       "<Axes: >"
      ]
     },
     "execution_count": 38,
     "metadata": {},
     "output_type": "execute_result"
    },
    {
     "data": {
      "image/png": "[encoded data removed]",
      "text/plain": [
       "<Figure size 640x480 with 1 Axes>"
      ]
     },
     "metadata": {},
     "output_type": "display_data"
    }
   ],
   "source": [
    "gh.plot.bar()"
   ]
  },
  {
   "cell_type": "code",
   "execution_count": 39,
   "id": "fda63605",
   "metadata": {},
   "outputs": [
    {
     "data": {
      "text/plain": [
       "<Axes: >"
      ]
     },
     "execution_count": 39,
     "metadata": {},
     "output_type": "execute_result"
    },
    {
     "data": {
      "image/png": "[encoded data removed]",
      "text/plain": [
       "<Figure size 640x480 with 1 Axes>"
      ]
     },
     "metadata": {},
     "output_type": "display_data"
    }
   ],
   "source": [
    "gh.plot.barh()"
   ]
  },
  {
   "cell_type": "code",
   "execution_count": 40,
   "id": "df460d17",
   "metadata": {},
   "outputs": [
    {
     "data": {
      "text/plain": [
       "<Axes: >"
      ]
     },
     "execution_count": 40,
     "metadata": {},
     "output_type": "execute_result"
    },
    {
     "data": {
      "image/png": "[encoded data removed]",
      "text/plain": [
       "<Figure size 640x480 with 1 Axes>"
      ]
     },
     "metadata": {},
     "output_type": "display_data"
    }
   ],
   "source": [
    "gh.plot.bar(stacked=True)"
   ]
  },
  {
   "cell_type": "code",
   "execution_count": 41,
   "id": "7e3e1b7e",
   "metadata": {},
   "outputs": [
    {
     "data": {
      "text/plain": [
       "<Axes: ylabel='Frequency'>"
      ]
     },
     "execution_count": 41,
     "metadata": {},
     "output_type": "execute_result"
    },
    {
     "data": {
      "image/png": "[encoded data removed]",
      "text/plain": [
       "<Figure size 640x480 with 1 Axes>"
      ]
     },
     "metadata": {},
     "output_type": "display_data"
    }
   ],
   "source": [
    "gh.plot.hist()"
   ]
  },
  {
   "cell_type": "code",
   "execution_count": 42,
   "id": "84f543b4",
   "metadata": {},
   "outputs": [
    {
     "data": {
      "text/plain": [
       "<Axes: >"
      ]
     },
     "execution_count": 42,
     "metadata": {},
     "output_type": "execute_result"
    },
    {
     "data": {
      "image/png": "[encoded data removed]",
      "text/plain": [
       "<Figure size 640x480 with 1 Axes>"
      ]
     },
     "metadata": {},
     "output_type": "display_data"
    }
   ],
   "source": [
    "gh.plot.box()"
   ]
  },
  {
   "cell_type": "markdown",
   "id": "94182471",
   "metadata": {},
   "source": [
    "The Highest point in A is 0.88 and the mean is 0.3 the lowest is 0.11, For B "
   ]
  },
  {
   "cell_type": "code",
   "execution_count": 43,
   "id": "76956c69",
   "metadata": {},
   "outputs": [
    {
     "data": {
      "text/plain": [
       "<Axes: xlabel='a', ylabel='b'>"
      ]
     },
     "execution_count": 43,
     "metadata": {},
     "output_type": "execute_result"
    },
    {
     "data": {
      "image/png": "[encoded data removed]",
      "text/plain": [
       "<Figure size 640x480 with 1 Axes>"
      ]
     },
     "metadata": {},
     "output_type": "display_data"
    }
   ],
   "source": [
    "gh.plot.scatter(x='a', y='b')"
   ]
  },
  {
   "cell_type": "markdown",
   "id": "7684ff8f",
   "metadata": {},
   "source": [
    "TO SET ID as INDEX COLUMN TITLE"
   ]
  },
  {
   "cell_type": "code",
   "execution_count": 48,
   "id": "e0d1f103",
   "metadata": {},
   "outputs": [],
   "source": [
    "dict3={'id':[1,2,3,4,5],'Name':['Hammed','Habeeb','Soliu','Balikis','Mariam'],'Age':[29,27,24,29,31]}"
   ]
  },
  {
   "cell_type": "code",
   "execution_count": 49,
   "id": "deead882",
   "metadata": {},
   "outputs": [
    {
     "data": {
      "text/plain": [
       "{'id': [1, 2, 3, 4, 5],\n",
       " 'Name': ['Hammed', 'Habeeb', 'Soliu', 'Balikis', 'Mariam'],\n",
       " 'Age': [29, 27, 24, 29, 31]}"
      ]
     },
     "execution_count": 49,
     "metadata": {},
     "output_type": "execute_result"
    }
   ],
   "source": [
    "dict3"
   ]
  },
  {
   "cell_type": "code",
   "execution_count": 50,
   "id": "837e198e",
   "metadata": {},
   "outputs": [
    {
     "data": {
      "text/html": [
       "<div>\n",
       "<style scoped>\n",
       "    .dataframe tbody tr th:only-of-type {\n",
       "        vertical-align: middle;\n",
       "    }\n",
       "\n",
       "    .dataframe tbody tr th {\n",
       "        vertical-align: top;\n",
       "    }\n",
       "\n",
       "    .dataframe thead th {\n",
       "        text-align: right;\n",
       "    }\n",
       "</style>\n",
       "<table border=\"1\" class=\"dataframe\">\n",
       "  <thead>\n",
       "    <tr style=\"text-align: right;\">\n",
       "      <th></th>\n",
       "      <th>id</th>\n",
       "      <th>Name</th>\n",
       "      <th>Age</th>\n",
       "    </tr>\n",
       "  </thead>\n",
       "  <tbody>\n",
       "    <tr>\n",
       "      <th>0</th>\n",
       "      <td>1</td>\n",
       "      <td>Hammed</td>\n",
       "      <td>29</td>\n",
       "    </tr>\n",
       "    <tr>\n",
       "      <th>1</th>\n",
       "      <td>2</td>\n",
       "      <td>Habeeb</td>\n",
       "      <td>27</td>\n",
       "    </tr>\n",
       "    <tr>\n",
       "      <th>2</th>\n",
       "      <td>3</td>\n",
       "      <td>Soliu</td>\n",
       "      <td>24</td>\n",
       "    </tr>\n",
       "    <tr>\n",
       "      <th>3</th>\n",
       "      <td>4</td>\n",
       "      <td>Balikis</td>\n",
       "      <td>29</td>\n",
       "    </tr>\n",
       "    <tr>\n",
       "      <th>4</th>\n",
       "      <td>5</td>\n",
       "      <td>Mariam</td>\n",
       "      <td>31</td>\n",
       "    </tr>\n",
       "  </tbody>\n",
       "</table>\n",
       "</div>"
      ],
      "text/plain": [
       "   id     Name  Age\n",
       "0   1   Hammed   29\n",
       "1   2   Habeeb   27\n",
       "2   3    Soliu   24\n",
       "3   4  Balikis   29\n",
       "4   5   Mariam   31"
      ]
     },
     "execution_count": 50,
     "metadata": {},
     "output_type": "execute_result"
    }
   ],
   "source": [
    "pd.DataFrame(dict3)"
   ]
  },
  {
   "cell_type": "code",
   "execution_count": 53,
   "id": "8597bfbc",
   "metadata": {},
   "outputs": [],
   "source": [
    "g=[['id','Hammed',29],['id','Balikis',29],['id','Soliu',24],['id','Habeeb',27],['id','Mariam',27]]"
   ]
  },
  {
   "cell_type": "code",
   "execution_count": 54,
   "id": "bbdf2012",
   "metadata": {},
   "outputs": [
    {
     "data": {
      "text/plain": [
       "[['id', 'Hammed', 29],\n",
       " ['id', 'Balikis', 29],\n",
       " ['id', 'Soliu', 24],\n",
       " ['id', 'Habeeb', 27],\n",
       " ['id', 'Mariam', 27]]"
      ]
     },
     "execution_count": 54,
     "metadata": {},
     "output_type": "execute_result"
    }
   ],
   "source": [
    "g"
   ]
  },
  {
   "cell_type": "code",
   "execution_count": 55,
   "id": "0fd1f171",
   "metadata": {},
   "outputs": [
    {
     "data": {
      "text/html": [
       "<div>\n",
       "<style scoped>\n",
       "    .dataframe tbody tr th:only-of-type {\n",
       "        vertical-align: middle;\n",
       "    }\n",
       "\n",
       "    .dataframe tbody tr th {\n",
       "        vertical-align: top;\n",
       "    }\n",
       "\n",
       "    .dataframe thead th {\n",
       "        text-align: right;\n",
       "    }\n",
       "</style>\n",
       "<table border=\"1\" class=\"dataframe\">\n",
       "  <thead>\n",
       "    <tr style=\"text-align: right;\">\n",
       "      <th></th>\n",
       "      <th>0</th>\n",
       "      <th>1</th>\n",
       "      <th>2</th>\n",
       "    </tr>\n",
       "  </thead>\n",
       "  <tbody>\n",
       "    <tr>\n",
       "      <th>0</th>\n",
       "      <td>id</td>\n",
       "      <td>Hammed</td>\n",
       "      <td>29</td>\n",
       "    </tr>\n",
       "    <tr>\n",
       "      <th>1</th>\n",
       "      <td>id</td>\n",
       "      <td>Balikis</td>\n",
       "      <td>29</td>\n",
       "    </tr>\n",
       "    <tr>\n",
       "      <th>2</th>\n",
       "      <td>id</td>\n",
       "      <td>Soliu</td>\n",
       "      <td>24</td>\n",
       "    </tr>\n",
       "    <tr>\n",
       "      <th>3</th>\n",
       "      <td>id</td>\n",
       "      <td>Habeeb</td>\n",
       "      <td>27</td>\n",
       "    </tr>\n",
       "    <tr>\n",
       "      <th>4</th>\n",
       "      <td>id</td>\n",
       "      <td>Mariam</td>\n",
       "      <td>27</td>\n",
       "    </tr>\n",
       "  </tbody>\n",
       "</table>\n",
       "</div>"
      ],
      "text/plain": [
       "    0        1   2\n",
       "0  id   Hammed  29\n",
       "1  id  Balikis  29\n",
       "2  id    Soliu  24\n",
       "3  id   Habeeb  27\n",
       "4  id   Mariam  27"
      ]
     },
     "execution_count": 55,
     "metadata": {},
     "output_type": "execute_result"
    }
   ],
   "source": [
    "pd.DataFrame(g)"
   ]
  },
  {
   "cell_type": "code",
   "execution_count": 75,
   "id": "c3ecc9ff",
   "metadata": {},
   "outputs": [],
   "source": [
    "data= [{'a':1,'b':2},{'a':5,'b':10,'c':20}]"
   ]
  },
  {
   "cell_type": "code",
   "execution_count": 76,
   "id": "9b8d333e",
   "metadata": {},
   "outputs": [
    {
     "data": {
      "text/plain": [
       "[{'a': 1, 'b': 2}, {'a': 5, 'b': 10, 'c': 20}]"
      ]
     },
     "execution_count": 76,
     "metadata": {},
     "output_type": "execute_result"
    }
   ],
   "source": [
    "data"
   ]
  },
  {
   "cell_type": "code",
   "execution_count": 77,
   "id": "c93a04ea",
   "metadata": {},
   "outputs": [],
   "source": [
    "df=pd.DataFrame(data,index=['first','second'],columns=['a','b'])"
   ]
  },
  {
   "cell_type": "code",
   "execution_count": 78,
   "id": "8ce03cc6",
   "metadata": {},
   "outputs": [
    {
     "name": "stdout",
     "output_type": "stream",
     "text": [
      "        a   b\n",
      "first   1   2\n",
      "second  5  10\n"
     ]
    }
   ],
   "source": [
    "print(df)"
   ]
  },
  {
   "cell_type": "markdown",
   "id": "2a518598",
   "metadata": {},
   "source": [
    "REGRESSION, USED TO FIND, SEARCH, SPLIT AND SUB"
   ]
  },
  {
   "cell_type": "code",
   "execution_count": 14,
   "id": "b46ff0ff",
   "metadata": {},
   "outputs": [],
   "source": [
    "import regex as re"
   ]
  },
  {
   "cell_type": "code",
   "execution_count": 15,
   "id": "a50ea0f9",
   "metadata": {},
   "outputs": [
    {
     "name": "stdout",
     "output_type": "stream",
     "text": [
      "None\n"
     ]
    }
   ],
   "source": [
    "text='India Nigeria Canada'\n",
    "f=re.search('France',text)\n",
    "print(f)"
   ]
  },
  {
   "cell_type": "code",
   "execution_count": 89,
   "id": "d8d00447",
   "metadata": {},
   "outputs": [
    {
     "name": "stdout",
     "output_type": "stream",
     "text": [
      "['Hammed']\n"
     ]
    }
   ],
   "source": [
    "pattern= 'Hammed'\n",
    "text='Hammed is a good boy and a handsome young man'\n",
    "m= re.findall(pattern, text)\n",
    "print(m)"
   ]
  },
  {
   "cell_type": "code",
   "execution_count": 88,
   "id": "a881b589",
   "metadata": {},
   "outputs": [
    {
     "name": "stdout",
     "output_type": "stream",
     "text": [
      "['29']\n"
     ]
    }
   ],
   "source": [
    "pattern='\\d+'\n",
    "text='I am 29 years of age'\n",
    "matches=re.findall(pattern, text)\n",
    "print(matches)"
   ]
  },
  {
   "cell_type": "markdown",
   "id": "a9892ec7",
   "metadata": {},
   "source": [
    "THE DIFFERENCE BTW Re.Search and Re.findall is that you need to define what you looking for with a variable in re.findall unlike re.search where you go straight to the point."
   ]
  },
  {
   "cell_type": "code",
   "execution_count": 91,
   "id": "6a78670b",
   "metadata": {},
   "outputs": [
    {
     "name": "stdout",
     "output_type": "stream",
     "text": [
      "['5']\n",
      "['8']\n",
      "['9']\n"
     ]
    }
   ],
   "source": [
    "prices= ['Mango is 5$','Orange is 8$','Banana is 9$']\n",
    "for msg in prices:\n",
    "    m=re.findall('\\d+',msg)\n",
    "    print(m)"
   ]
  },
  {
   "cell_type": "markdown",
   "id": "798eaeee",
   "metadata": {},
   "source": [
    "When looking for a word among just a sentence, you can just call the word directly, however, if you are long for a word among different snetence, then you need to use the (FOR msg in text) code."
   ]
  },
  {
   "cell_type": "markdown",
   "id": "b8d874b9",
   "metadata": {},
   "source": [
    "NOTE: ^= Stands for start of word\n",
    "    $= stands for end of a word\n",
    "    .*= Stands for any number of characters in between."
   ]
  },
  {
   "cell_type": "code",
   "execution_count": 97,
   "id": "d93a3eb7",
   "metadata": {},
   "outputs": [
    {
     "name": "stdout",
     "output_type": "stream",
     "text": [
      "<re.Match object; span=(0, 28), match='This product is really Great'>\n"
     ]
    }
   ],
   "source": [
    "msg1= 'This product is really Great'\n",
    "s= re.search(\"^This.*Great$\", msg1)\n",
    "print(s)"
   ]
  },
  {
   "cell_type": "markdown",
   "id": "0cc96abc",
   "metadata": {},
   "source": [
    "SPLIT IS USED TO SPLIT A SENTENCE INTO LIST USING THE SPACES BETWEEN WORDS. \"\\s\" = Represents the spaces in between words in as sentence.\n",
    " You can also be specific with where you want a split to start from by making use of the number (1,2,3 etc)"
   ]
  },
  {
   "cell_type": "code",
   "execution_count": 99,
   "id": "cf774185",
   "metadata": {},
   "outputs": [
    {
     "name": "stdout",
     "output_type": "stream",
     "text": [
      "['Hammed', 'is', 'a', 'tall', 'boy']\n"
     ]
    }
   ],
   "source": [
    "text= \"Hammed is a tall boy\"\n",
    "s= re.split('\\s', text)\n",
    "print(s)"
   ]
  },
  {
   "cell_type": "code",
   "execution_count": 102,
   "id": "bcb2102a",
   "metadata": {},
   "outputs": [
    {
     "name": "stdout",
     "output_type": "stream",
     "text": [
      "['What', 'is happening here']\n"
     ]
    }
   ],
   "source": [
    "text= 'What is happening here'\n",
    "s=re.split(\"\\s\", text, 1)\n",
    "print(s)"
   ]
  },
  {
   "cell_type": "code",
   "execution_count": 103,
   "id": "ce8546cd",
   "metadata": {},
   "outputs": [
    {
     "name": "stdout",
     "output_type": "stream",
     "text": [
      "['What', 'is', 'happening here']\n"
     ]
    }
   ],
   "source": [
    "text= 'What is happening here'\n",
    "s=re.split(\"\\s\", text, 2)\n",
    "print(s)"
   ]
  },
  {
   "cell_type": "markdown",
   "id": "bb2868ce",
   "metadata": {},
   "source": [
    "THE Re.sub function is used to substitute one thing for the other."
   ]
  },
  {
   "cell_type": "code",
   "execution_count": 108,
   "id": "2aaaeb87",
   "metadata": {},
   "outputs": [
    {
     "name": "stdout",
     "output_type": "stream",
     "text": [
      "What==is==my==name\n"
     ]
    }
   ],
   "source": [
    "text= \"What is my name\"\n",
    "d=re.sub(\"\\s\",\"==\",text)\n",
    "print(d)"
   ]
  },
  {
   "cell_type": "code",
   "execution_count": 109,
   "id": "de63d26e",
   "metadata": {},
   "outputs": [
    {
     "name": "stdout",
     "output_type": "stream",
     "text": [
      "The cost of apple is $20\n"
     ]
    }
   ],
   "source": [
    "Price= \"The cost of apple is #20\"\n",
    "f= re.sub(\"#\",\"$\", Price)\n",
    "print(f)"
   ]
  },
  {
   "cell_type": "markdown",
   "id": "69c0f338",
   "metadata": {},
   "source": [
    "FLIPROBO FIRST ASSIGNMENT"
   ]
  },
  {
   "cell_type": "code",
   "execution_count": 110,
   "id": "778be19e",
   "metadata": {},
   "outputs": [
    {
     "name": "stdout",
     "output_type": "stream",
     "text": [
      "15\n"
     ]
    }
   ],
   "source": [
    "def func(a, b):\n",
    "    return b if a == 0 else func(b % a, a)\n",
    "print(func(30, 75))\n"
   ]
  },
  {
   "cell_type": "code",
   "execution_count": 111,
   "id": "ce752d68",
   "metadata": {},
   "outputs": [],
   "source": [
    "l=(60%5)"
   ]
  },
  {
   "cell_type": "code",
   "execution_count": 112,
   "id": "0c856392",
   "metadata": {},
   "outputs": [
    {
     "data": {
      "text/plain": [
       "0"
      ]
     },
     "execution_count": 112,
     "metadata": {},
     "output_type": "execute_result"
    }
   ],
   "source": [
    "l"
   ]
  },
  {
   "cell_type": "code",
   "execution_count": 113,
   "id": "9fef33b4",
   "metadata": {},
   "outputs": [],
   "source": [
    "numbers = (4, 7, 19, 2, 89, 45, 72, 22)\n",
    "sorted_numbers = sorted(numbers) "
   ]
  },
  {
   "cell_type": "code",
   "execution_count": 114,
   "id": "9cbb52bb",
   "metadata": {},
   "outputs": [
    {
     "data": {
      "text/plain": [
       "[2, 4, 7, 19, 22, 45, 72, 89]"
      ]
     },
     "execution_count": 114,
     "metadata": {},
     "output_type": "execute_result"
    }
   ],
   "source": [
    "sorted_numbers"
   ]
  },
  {
   "cell_type": "markdown",
   "id": "298ce231",
   "metadata": {},
   "source": [
    "When you pass arguments into a function using *args, they are stored as a tuple inside the function. The args tuple can then be accessed and manipulated within the function as needed."
   ]
  },
  {
   "cell_type": "code",
   "execution_count": 117,
   "id": "50554150",
   "metadata": {},
   "outputs": [
    {
     "ename": "TypeError",
     "evalue": "unsupported operand type(s) for +: 'set' and 'set'",
     "output_type": "error",
     "traceback": [
      "\u001b[1;31m---------------------------------------------------------------------------\u001b[0m",
      "\u001b[1;31mTypeError\u001b[0m                                 Traceback (most recent call last)",
      "Cell \u001b[1;32mIn[117], line 4\u001b[0m\n\u001b[0;32m      2\u001b[0m set2 \u001b[38;5;241m=\u001b[39m {\u001b[38;5;241m82\u001b[39m, \u001b[38;5;241m49\u001b[39m, \u001b[38;5;241m62\u001b[39m} \n\u001b[0;32m      3\u001b[0m set3\u001b[38;5;241m=\u001b[39m{\u001b[38;5;241m99\u001b[39m,\u001b[38;5;241m22\u001b[39m,\u001b[38;5;241m17\u001b[39m} \n\u001b[1;32m----> 4\u001b[0m \u001b[38;5;28mprint\u001b[39m(\u001b[43mset1\u001b[49m\u001b[43m \u001b[49m\u001b[38;5;241;43m+\u001b[39;49m\u001b[43m \u001b[49m\u001b[43mset2\u001b[49m \u001b[38;5;241m+\u001b[39m set3)\n",
      "\u001b[1;31mTypeError\u001b[0m: unsupported operand type(s) for +: 'set' and 'set'"
     ]
    }
   ],
   "source": [
    "set1 = {14, 3, 55}\n",
    "set2 = {82, 49, 62} \n",
    "set3={99,22,17} \n",
    "print(len(set1 + set2 + set3))\n"
   ]
  },
  {
   "cell_type": "markdown",
   "id": "4e996bf1",
   "metadata": {},
   "source": [
    "CORRECTION, The code you provided attempts to perform addition (+) between sets, which is not a valid operation in Python. You cannot directly use the + operator to concatenate sets like you can with lists or strings.\n",
    "\n",
    "If you want to find the total number of elements in the union of these sets (i.e., counting each unique element only once), you should use the union (|) operator or the union() method. Here's the corrected code:"
   ]
  },
  {
   "cell_type": "code",
   "execution_count": 3,
   "id": "420a315f",
   "metadata": {},
   "outputs": [
    {
     "name": "stdout",
     "output_type": "stream",
     "text": [
      "9\n"
     ]
    }
   ],
   "source": [
    "set1 = {14, 3, 55}\n",
    "set2 = {82, 49, 62}\n",
    "set3 = {99, 22, 17}\n",
    "union_set = set1.union(set2, set3)  # Using the union() method\n",
    "print(len(union_set))"
   ]
  },
  {
   "cell_type": "code",
   "execution_count": 1,
   "id": "09a4433d",
   "metadata": {},
   "outputs": [],
   "source": [
    "import datetime"
   ]
  },
  {
   "cell_type": "code",
   "execution_count": 2,
   "id": "cc2ea8fe",
   "metadata": {},
   "outputs": [
    {
     "name": "stdout",
     "output_type": "stream",
     "text": [
      "208\n"
     ]
    }
   ],
   "source": [
    "print(4**3 + (7 + 5)**(1 + 1)) "
   ]
  },
  {
   "cell_type": "markdown",
   "id": "5d0ce0b6",
   "metadata": {},
   "source": [
    "Tuples in Python are immutable, meaning their elements cannot be changed or modified after they are created. You can't add, remove, or alter elements within a tuple once it's defined."
   ]
  },
  {
   "cell_type": "markdown",
   "id": "4396ec57",
   "metadata": {},
   "source": [
    "A lambda function in Python is an anonymous function, meaning it does not have a name. It is a small, unnamed function defined using the lambda keyword. Lambda functions are typically used for short, simple operations and are not assigned a specific name like regular functions defined with def."
   ]
  },
  {
   "cell_type": "markdown",
   "id": "7bd9c4a0",
   "metadata": {},
   "source": [
    "In Python, the dump() method is used to convert Python objects (such as dictionaries, lists, etc.) into a binary representation and write them to a binary file. This is typically done using the pickle module, which provides the dump() method for serialization and the load() method for deserialization."
   ]
  },
  {
   "cell_type": "markdown",
   "id": "5ead739d",
   "metadata": {},
   "source": [
    "The pickle module in Python is used for both serializing (saving) and deserializing (loading) Python object structures. Serialization is the process of converting Python objects into a byte stream, while deserialization is the process of reconstructing Python objects from that byte stream. So, the pickle module is used for both of these purposes."
   ]
  },
  {
   "cell_type": "markdown",
   "id": "cc6f31b4",
   "metadata": {},
   "source": [
    "A text file can contain alphabets, numbers, and special symbols, as well as other textual characters. Text files are used to store and represent textual information, which can include a wide range of characters and symbols."
   ]
  },
  {
   "cell_type": "code",
   "execution_count": 4,
   "id": "4c9ae306",
   "metadata": {},
   "outputs": [],
   "source": [
    "captains = { \"Enterprise\": \"Picard\",\n",
    "\"Voyager\": \"Janeway\", \"Defiant\": \"Sisko\",\n",
    "}"
   ]
  },
  {
   "cell_type": "code",
   "execution_count": 5,
   "id": "be224282",
   "metadata": {},
   "outputs": [
    {
     "data": {
      "text/plain": [
       "{'Enterprise': 'Picard', 'Voyager': 'Janeway', 'Defiant': 'Sisko'}"
      ]
     },
     "execution_count": 5,
     "metadata": {},
     "output_type": "execute_result"
    }
   ],
   "source": [
    "captains"
   ]
  },
  {
   "cell_type": "code",
   "execution_count": 6,
   "id": "6d79e223",
   "metadata": {},
   "outputs": [
    {
     "name": "stdout",
     "output_type": "stream",
     "text": [
      "Enterprise Picard\n",
      "Voyager Janeway\n",
      "Defiant Sisko\n"
     ]
    }
   ],
   "source": [
    "for ship, captain in captains.items():\n",
    "    print(ship, captain)"
   ]
  },
  {
   "cell_type": "code",
   "execution_count": 7,
   "id": "94121c58",
   "metadata": {},
   "outputs": [],
   "source": [
    "captains = {\n",
    "\n",
    "    \"Enterprise\": \"Picard\",\n",
    "\n",
    "    \"Voyager\": \"Janeway\",\n",
    "\n",
    "    \"Defiant\": \"Sisko\",\n",
    "\n",
    "    \"Discovery\": \"unknown\",}\n"
   ]
  },
  {
   "cell_type": "code",
   "execution_count": 8,
   "id": "69fdb40e",
   "metadata": {},
   "outputs": [
    {
     "data": {
      "text/plain": [
       "{'Enterprise': 'Picard',\n",
       " 'Voyager': 'Janeway',\n",
       " 'Defiant': 'Sisko',\n",
       " 'Discovery': 'unknown'}"
      ]
     },
     "execution_count": 8,
     "metadata": {},
     "output_type": "execute_result"
    }
   ],
   "source": [
    "captains"
   ]
  },
  {
   "cell_type": "code",
   "execution_count": 10,
   "id": "38178090",
   "metadata": {},
   "outputs": [
    {
     "name": "stdout",
     "output_type": "stream",
     "text": [
      "The Enterprise is captained by Picard.\n",
      "The Voyager is captained by Janeway.\n",
      "The Defiant is captained by Sisko.\n",
      "The Discovery is captained by unknown.\n"
     ]
    }
   ],
   "source": [
    "for ship, captain in captains.items(): \n",
    "    print(f\"The {ship} is captained by {captain}.\")"
   ]
  },
  {
   "cell_type": "code",
   "execution_count": 16,
   "id": "07b6c1f1",
   "metadata": {},
   "outputs": [
    {
     "name": "stdout",
     "output_type": "stream",
     "text": [
      "Help on package regex:\n",
      "\n",
      "NAME\n",
      "    regex - Support for regular expressions (RE).\n",
      "\n",
      "DESCRIPTION\n",
      "    This module provides regular expression matching operations similar to those\n",
      "    found in Perl. It supports both 8-bit and Unicode strings; both the pattern and\n",
      "    the strings being processed can contain null bytes and characters outside the\n",
      "    US ASCII range.\n",
      "    \n",
      "    Regular expressions can contain both special and ordinary characters. Most\n",
      "    ordinary characters, like \"A\", \"a\", or \"0\", are the simplest regular\n",
      "    expressions; they simply match themselves. You can concatenate ordinary\n",
      "    characters, so last matches the string 'last'.\n",
      "    \n",
      "    There are a few differences between the old (legacy) behaviour and the new\n",
      "    (enhanced) behaviour, which are indicated by VERSION0 or VERSION1.\n",
      "    \n",
      "    The special characters are:\n",
      "        \".\"                 Matches any character except a newline.\n",
      "        \"^\"                 Matches the start of the string.\n",
      "        \"$\"                 Matches the end of the string or just before the\n",
      "                            newline at the end of the string.\n",
      "        \"*\"                 Matches 0 or more (greedy) repetitions of the preceding\n",
      "                            RE. Greedy means that it will match as many repetitions\n",
      "                            as possible.\n",
      "        \"+\"                 Matches 1 or more (greedy) repetitions of the preceding\n",
      "                            RE.\n",
      "        \"?\"                 Matches 0 or 1 (greedy) of the preceding RE.\n",
      "        *?,+?,??            Non-greedy versions of the previous three special\n",
      "                            characters.\n",
      "        *+,++,?+            Possessive versions of the previous three special\n",
      "                            characters.\n",
      "        {m,n}               Matches from m to n repetitions of the preceding RE.\n",
      "        {m,n}?              Non-greedy version of the above.\n",
      "        {m,n}+              Possessive version of the above.\n",
      "        {...}               Fuzzy matching constraints.\n",
      "        \"\\\\\"                Either escapes special characters or signals a special\n",
      "                            sequence.\n",
      "        [...]               Indicates a set of characters. A \"^\" as the first\n",
      "                            character indicates a complementing set.\n",
      "        \"|\"                 A|B, creates an RE that will match either A or B.\n",
      "        (...)               Matches the RE inside the parentheses. The contents are\n",
      "                            captured and can be retrieved or matched later in the\n",
      "                            string.\n",
      "        (?flags-flags)      VERSION1: Sets/clears the flags for the remainder of\n",
      "                            the group or pattern; VERSION0: Sets the flags for the\n",
      "                            entire pattern.\n",
      "        (?:...)             Non-capturing version of regular parentheses.\n",
      "        (?>...)             Atomic non-capturing version of regular parentheses.\n",
      "        (?flags-flags:...)  Non-capturing version of regular parentheses with local\n",
      "                            flags.\n",
      "        (?P<name>...)       The substring matched by the group is accessible by\n",
      "                            name.\n",
      "        (?<name>...)        The substring matched by the group is accessible by\n",
      "                            name.\n",
      "        (?P=name)           Matches the text matched earlier by the group named\n",
      "                            name.\n",
      "        (?#...)             A comment; ignored.\n",
      "        (?=...)             Matches if ... matches next, but doesn't consume the\n",
      "                            string.\n",
      "        (?!...)             Matches if ... doesn't match next.\n",
      "        (?<=...)            Matches if preceded by ....\n",
      "        (?<!...)            Matches if not preceded by ....\n",
      "        (?(id)yes|no)       Matches yes pattern if group id matched, the (optional)\n",
      "                            no pattern otherwise.\n",
      "        (?(DEFINE)...)      If there's no group called \"DEFINE\", then ... will be\n",
      "                            ignored, but any group definitions will be available.\n",
      "        (?|...|...)         (?|A|B), creates an RE that will match either A or B,\n",
      "                            but reuses capture group numbers across the\n",
      "                            alternatives.\n",
      "        (*FAIL)             Forces matching to fail, which means immediate\n",
      "                            backtracking.\n",
      "        (*F)                Abbreviation for (*FAIL).\n",
      "        (*PRUNE)            Discards the current backtracking information. Its\n",
      "                            effect doesn't extend outside an atomic group or a\n",
      "                            lookaround.\n",
      "        (*SKIP)             Similar to (*PRUNE), except that it also sets where in\n",
      "                            the text the next attempt at matching the entire\n",
      "                            pattern will start. Its effect doesn't extend outside\n",
      "                            an atomic group or a lookaround.\n",
      "    \n",
      "    The fuzzy matching constraints are: \"i\" to permit insertions, \"d\" to permit\n",
      "    deletions, \"s\" to permit substitutions, \"e\" to permit any of these. Limits are\n",
      "    optional with \"<=\" and \"<\". If any type of error is provided then any type not\n",
      "    provided is not permitted.\n",
      "    \n",
      "    A cost equation may be provided.\n",
      "    \n",
      "    Examples:\n",
      "        (?:fuzzy){i<=2}\n",
      "        (?:fuzzy){i<=1,s<=2,d<=1,1i+1s+1d<3}\n",
      "    \n",
      "    VERSION1: Set operators are supported, and a set can include nested sets. The\n",
      "    set operators, in order of increasing precedence, are:\n",
      "        ||  Set union (\"x||y\" means \"x or y\").\n",
      "        ~~  (double tilde) Symmetric set difference (\"x~~y\" means \"x or y, but not\n",
      "            both\").\n",
      "        &&  Set intersection (\"x&&y\" means \"x and y\").\n",
      "        --  (double dash) Set difference (\"x--y\" means \"x but not y\").\n",
      "    \n",
      "    Implicit union, ie, simple juxtaposition like in [ab], has the highest\n",
      "    precedence.\n",
      "    \n",
      "    VERSION0 and VERSION1:\n",
      "    The special sequences consist of \"\\\\\" and a character from the list below. If\n",
      "    the ordinary character is not on the list, then the resulting RE will match the\n",
      "    second character.\n",
      "        \\number         Matches the contents of the group of the same number if\n",
      "                        number is no more than 2 digits, otherwise the character\n",
      "                        with the 3-digit octal code.\n",
      "        \\a              Matches the bell character.\n",
      "        \\A              Matches only at the start of the string.\n",
      "        \\b              Matches the empty string, but only at the start or end of a\n",
      "                        word.\n",
      "        \\B              Matches the empty string, but not at the start or end of a\n",
      "                        word.\n",
      "        \\d              Matches any decimal digit; equivalent to the set [0-9] when\n",
      "                        matching a bytestring or a Unicode string with the ASCII\n",
      "                        flag, or the whole range of Unicode digits when matching a\n",
      "                        Unicode string.\n",
      "        \\D              Matches any non-digit character; equivalent to [^\\d].\n",
      "        \\f              Matches the formfeed character.\n",
      "        \\g<name>        Matches the text matched by the group named name.\n",
      "        \\G              Matches the empty string, but only at the position where\n",
      "                        the search started.\n",
      "        \\h              Matches horizontal whitespace.\n",
      "        \\K              Keeps only what follows for the entire match.\n",
      "        \\L<name>        Named list. The list is provided as a keyword argument.\n",
      "        \\m              Matches the empty string, but only at the start of a word.\n",
      "        \\M              Matches the empty string, but only at the end of a word.\n",
      "        \\n              Matches the newline character.\n",
      "        \\N{name}        Matches the named character.\n",
      "        \\p{name=value}  Matches the character if its property has the specified\n",
      "                        value.\n",
      "        \\P{name=value}  Matches the character if its property hasn't the specified\n",
      "                        value.\n",
      "        \\r              Matches the carriage-return character.\n",
      "        \\s              Matches any whitespace character; equivalent to\n",
      "                        [ \\t\\n\\r\\f\\v].\n",
      "        \\S              Matches any non-whitespace character; equivalent to [^\\s].\n",
      "        \\t              Matches the tab character.\n",
      "        \\uXXXX          Matches the Unicode codepoint with 4-digit hex code XXXX.\n",
      "        \\UXXXXXXXX      Matches the Unicode codepoint with 8-digit hex code\n",
      "                        XXXXXXXX.\n",
      "        \\v              Matches the vertical tab character.\n",
      "        \\w              Matches any alphanumeric character; equivalent to\n",
      "                        [a-zA-Z0-9_] when matching a bytestring or a Unicode string\n",
      "                        with the ASCII flag, or the whole range of Unicode\n",
      "                        alphanumeric characters (letters plus digits plus\n",
      "                        underscore) when matching a Unicode string. With LOCALE, it\n",
      "                        will match the set [0-9_] plus characters defined as\n",
      "                        letters for the current locale.\n",
      "        \\W              Matches the complement of \\w; equivalent to [^\\w].\n",
      "        \\xXX            Matches the character with 2-digit hex code XX.\n",
      "        \\X              Matches a grapheme.\n",
      "        \\Z              Matches only at the end of the string.\n",
      "        \\\\              Matches a literal backslash.\n",
      "    \n",
      "    This module exports the following functions:\n",
      "        match      Match a regular expression pattern at the beginning of a string.\n",
      "        fullmatch  Match a regular expression pattern against all of a string.\n",
      "        search     Search a string for the presence of a pattern.\n",
      "        sub        Substitute occurrences of a pattern found in a string using a\n",
      "                   template string.\n",
      "        subf       Substitute occurrences of a pattern found in a string using a\n",
      "                   format string.\n",
      "        subn       Same as sub, but also return the number of substitutions made.\n",
      "        subfn      Same as subf, but also return the number of substitutions made.\n",
      "        split      Split a string by the occurrences of a pattern. VERSION1: will\n",
      "                   split at zero-width match; VERSION0: won't split at zero-width\n",
      "                   match.\n",
      "        splititer  Return an iterator yielding the parts of a split string.\n",
      "        findall    Find all occurrences of a pattern in a string.\n",
      "        finditer   Return an iterator yielding a match object for each match.\n",
      "        compile    Compile a pattern into a Pattern object.\n",
      "        purge      Clear the regular expression cache.\n",
      "        escape     Backslash all non-alphanumerics or special characters in a\n",
      "                   string.\n",
      "    \n",
      "    Most of the functions support a concurrent parameter: if True, the GIL will be\n",
      "    released during matching, allowing other Python threads to run concurrently. If\n",
      "    the string changes during matching, the behaviour is undefined. This parameter\n",
      "    is not needed when working on the builtin (immutable) string classes.\n",
      "    \n",
      "    Some of the functions in this module take flags as optional parameters. Most of\n",
      "    these flags can also be set within an RE:\n",
      "        A   a   ASCII         Make \\w, \\W, \\b, \\B, \\d, and \\D match the\n",
      "                              corresponding ASCII character categories. Default\n",
      "                              when matching a bytestring.\n",
      "        B   b   BESTMATCH     Find the best fuzzy match (default is first).\n",
      "        D       DEBUG         Print the parsed pattern.\n",
      "        E   e   ENHANCEMATCH  Attempt to improve the fit after finding the first\n",
      "                              fuzzy match.\n",
      "        F   f   FULLCASE      Use full case-folding when performing\n",
      "                              case-insensitive matching in Unicode.\n",
      "        I   i   IGNORECASE    Perform case-insensitive matching.\n",
      "        L   L   LOCALE        Make \\w, \\W, \\b, \\B, \\d, and \\D dependent on the\n",
      "                              current locale. (One byte per character only.)\n",
      "        M   m   MULTILINE     \"^\" matches the beginning of lines (after a newline)\n",
      "                              as well as the string. \"$\" matches the end of lines\n",
      "                              (before a newline) as well as the end of the string.\n",
      "        P   p   POSIX         Perform POSIX-standard matching (leftmost longest).\n",
      "        R   r   REVERSE       Searches backwards.\n",
      "        S   s   DOTALL        \".\" matches any character at all, including the\n",
      "                              newline.\n",
      "        U   u   UNICODE       Make \\w, \\W, \\b, \\B, \\d, and \\D dependent on the\n",
      "                              Unicode locale. Default when matching a Unicode\n",
      "                              string.\n",
      "        V0  V0  VERSION0      Turn on the old legacy behaviour.\n",
      "        V1  V1  VERSION1      Turn on the new enhanced behaviour. This flag\n",
      "                              includes the FULLCASE flag.\n",
      "        W   w   WORD          Make \\b and \\B work with default Unicode word breaks\n",
      "                              and make \".\", \"^\" and \"$\" work with Unicode line\n",
      "                              breaks.\n",
      "        X   x   VERBOSE       Ignore whitespace and comments for nicer looking REs.\n",
      "    \n",
      "    This module also defines an exception 'error'.\n",
      "\n",
      "PACKAGE CONTENTS\n",
      "    _regex\n",
      "    _regex_core\n",
      "    regex\n",
      "    test_regex\n",
      "\n",
      "CLASSES\n",
      "    builtins.Exception(builtins.BaseException)\n",
      "        regex._regex_core.error\n",
      "    builtins.object\n",
      "        _regex.Match\n",
      "        _regex.Pattern\n",
      "        regex._regex_core.Scanner\n",
      "    enum.IntFlag(builtins.int, enum.Flag)\n",
      "        regex._regex_core.RegexFlag\n",
      "    \n",
      "    class Match(builtins.object)\n",
      "     |  Match object\n",
      "     |  \n",
      "     |  Methods defined here:\n",
      "     |  \n",
      "     |  __copy__(...)\n",
      "     |  \n",
      "     |  __deepcopy__(...)\n",
      "     |  \n",
      "     |  __getitem__(...)\n",
      "     |  \n",
      "     |  __len__(self, /)\n",
      "     |      Return len(self).\n",
      "     |  \n",
      "     |  __repr__(self, /)\n",
      "     |      Return repr(self).\n",
      "     |  \n",
      "     |  captures(...)\n",
      "     |      captures([group1, ...]) --> list of strings or tuple of list of strings.\n",
      "     |      Return the captures of one or more subgroups of the match.  If there is a\n",
      "     |      single argument, the result is a list of strings; if there are multiple\n",
      "     |      arguments, the result is a tuple of lists with one item per argument; if\n",
      "     |      there are no arguments, the captures of the whole match is returned.  Group\n",
      "     |      0 is the whole match.\n",
      "     |  \n",
      "     |  capturesdict(...)\n",
      "     |      capturesdict() --> dict.\n",
      "     |      Return a dictionary containing the captures of all the named subgroups of the\n",
      "     |      match, keyed by the subgroup name.\n",
      "     |  \n",
      "     |  detach_string(...)\n",
      "     |      detach_string()\n",
      "     |      Detaches the target string from the match object. The 'string' attribute\n",
      "     |      will become None.\n",
      "     |  \n",
      "     |  end(...)\n",
      "     |      end([group1, ...]) --> int or tuple of ints.\n",
      "     |      Return the index of the end of one or more subgroups of the match.  If there\n",
      "     |      is a single argument, the result is an index, or -1 if the group did not\n",
      "     |      contribute to the match; if there are multiple arguments, the result is a\n",
      "     |      tuple with one item per argument; if there are no arguments, the index of\n",
      "     |      the end of the whole match is returned.  Group 0 is the whole match.\n",
      "     |  \n",
      "     |  ends(...)\n",
      "     |      ends([group1, ...]) --> list of ints or tuple of list of ints.\n",
      "     |      Return the indices of the ends of the captures of one or more subgroups of\n",
      "     |      the match.  If there is a single argument, the result is a list of indices;\n",
      "     |      if there are multiple arguments, the result is a tuple of lists with one\n",
      "     |      item per argument; if there are no arguments, the indices of the ends of the\n",
      "     |      captures of the whole match is returned.  Group 0 is the whole match.\n",
      "     |  \n",
      "     |  expand(...)\n",
      "     |      expand(template) --> string.\n",
      "     |      Return the string obtained by doing backslash substitution on the template,\n",
      "     |      as done by the sub() method.\n",
      "     |  \n",
      "     |  expandf(...)\n",
      "     |      expandf(format) --> string.\n",
      "     |      Return the string obtained by using the format, as done by the subf()\n",
      "     |      method.\n",
      "     |  \n",
      "     |  group(...)\n",
      "     |      group([group1, ...]) --> string or tuple of strings.\n",
      "     |      Return one or more subgroups of the match.  If there is a single argument,\n",
      "     |      the result is a single string, or None if the group did not contribute to\n",
      "     |      the match; if there are multiple arguments, the result is a tuple with one\n",
      "     |      item per argument; if there are no arguments, the whole match is returned.\n",
      "     |      Group 0 is the whole match.\n",
      "     |  \n",
      "     |  groupdict(...)\n",
      "     |      groupdict(default=None) --> dict.\n",
      "     |      Return a dictionary containing all the named subgroups of the match, keyed\n",
      "     |      by the subgroup name.  The argument is the value to be given for groups that\n",
      "     |      did not participate in the match.\n",
      "     |  \n",
      "     |  groups(...)\n",
      "     |      groups(default=None) --> tuple of strings.\n",
      "     |      Return a tuple containing all the subgroups of the match.  The argument is\n",
      "     |      the default for groups that did not participate in the match.\n",
      "     |  \n",
      "     |  span(...)\n",
      "     |      span([group1, ...]) --> 2-tuple of int or tuple of 2-tuple of ints.\n",
      "     |      Return the span (a 2-tuple of the indices of the start and end) of one or\n",
      "     |      more subgroups of the match.  If there is a single argument, the result is a\n",
      "     |      span, or (-1, -1) if the group did not contribute to the match; if there are\n",
      "     |      multiple arguments, the result is a tuple with one item per argument; if\n",
      "     |      there are no arguments, the span of the whole match is returned.  Group 0 is\n",
      "     |      the whole match.\n",
      "     |  \n",
      "     |  spans(...)\n",
      "     |      spans([group1, ...]) --> list of 2-tuple of ints or tuple of list of 2-tuple of ints.\n",
      "     |      Return the spans (a 2-tuple of the indices of the start and end) of the\n",
      "     |      captures of one or more subgroups of the match.  If there is a single\n",
      "     |      argument, the result is a list of spans; if there are multiple arguments,\n",
      "     |      the result is a tuple of lists with one item per argument; if there are no\n",
      "     |      arguments, the spans of the captures of the whole match is returned.  Group\n",
      "     |      0 is the whole match.\n",
      "     |  \n",
      "     |  start(...)\n",
      "     |      start([group1, ...]) --> int or tuple of ints.\n",
      "     |      Return the index of the start of one or more subgroups of the match.  If\n",
      "     |      there is a single argument, the result is an index, or -1 if the group did\n",
      "     |      not contribute to the match; if there are multiple arguments, the result is\n",
      "     |      a tuple with one item per argument; if there are no arguments, the index of\n",
      "     |      the start of the whole match is returned.  Group 0 is the whole match.\n",
      "     |  \n",
      "     |  starts(...)\n",
      "     |      starts([group1, ...]) --> list of ints or tuple of list of ints.\n",
      "     |      Return the indices of the starts of the captures of one or more subgroups of\n",
      "     |      the match.  If there is a single argument, the result is a list of indices;\n",
      "     |      if there are multiple arguments, the result is a tuple of lists with one\n",
      "     |      item per argument; if there are no arguments, the indices of the starts of\n",
      "     |      the captures of the whole match is returned.  Group 0 is the whole match.\n",
      "     |  \n",
      "     |  ----------------------------------------------------------------------\n",
      "     |  Class methods defined here:\n",
      "     |  \n",
      "     |  __class_getitem__(...) from builtins.type\n",
      "     |      See PEP 585\n",
      "     |  \n",
      "     |  ----------------------------------------------------------------------\n",
      "     |  Data descriptors defined here:\n",
      "     |  \n",
      "     |  endpos\n",
      "     |      The final position beyond which the regex engine won't search.\n",
      "     |  \n",
      "     |  fuzzy_changes\n",
      "     |      A tuple of the positions of the substitutions, insertions and deletions.\n",
      "     |  \n",
      "     |  fuzzy_counts\n",
      "     |      A tuple of the number of substitutions, insertions and deletions.\n",
      "     |  \n",
      "     |  lastgroup\n",
      "     |      The name of the last matched capturing group, or None.\n",
      "     |  \n",
      "     |  lastindex\n",
      "     |      The group number of the last matched capturing group, or None.\n",
      "     |  \n",
      "     |  partial\n",
      "     |      Whether it's a partial match.\n",
      "     |  \n",
      "     |  pos\n",
      "     |      The position at which the regex engine starting searching.\n",
      "     |  \n",
      "     |  re\n",
      "     |      The regex object that produced this match object.\n",
      "     |  \n",
      "     |  regs\n",
      "     |      A tuple of the spans of the capturing groups.\n",
      "     |  \n",
      "     |  string\n",
      "     |      The string that was searched, or None if it has been detached.\n",
      "    \n",
      "    class Pattern(builtins.object)\n",
      "     |  Compiled regex object\n",
      "     |  \n",
      "     |  Methods defined here:\n",
      "     |  \n",
      "     |  __copy__(...)\n",
      "     |  \n",
      "     |  __deepcopy__(...)\n",
      "     |  \n",
      "     |  __repr__(self, /)\n",
      "     |      Return repr(self).\n",
      "     |  \n",
      "     |  __sizeof__(...)\n",
      "     |      Size of object in memory, in bytes.\n",
      "     |  \n",
      "     |  findall(...)\n",
      "     |      findall(string, pos=None, endpos=None, overlapped=False, concurrent=None, timeout=None) --> list.\n",
      "     |      Return a list of all matches of pattern in string.  The matches may be\n",
      "     |      overlapped if overlapped is True.\n",
      "     |  \n",
      "     |  finditer(...)\n",
      "     |      finditer(string, pos=None, endpos=None, overlapped=False, concurrent=None, timeout=None) --> iterator.\n",
      "     |      Return an iterator over all matches for the RE pattern in string.  The\n",
      "     |      matches may be overlapped if overlapped is True.  For each match, the\n",
      "     |      iterator returns a MatchObject.\n",
      "     |  \n",
      "     |  fullmatch(...)\n",
      "     |      fullmatch(string, pos=None, endpos=None, concurrent=None, timeout=None) --> MatchObject or None.\n",
      "     |      Match zero or more characters against all of the string.\n",
      "     |  \n",
      "     |  match(...)\n",
      "     |      match(string, pos=None, endpos=None, concurrent=None, timeout=None) --> MatchObject or None.\n",
      "     |      Match zero or more characters at the beginning of the string.\n",
      "     |  \n",
      "     |  scanner(...)\n",
      "     |      scanner(string, pos=None, endpos=None, overlapped=False, concurrent=None, timeout=None) --> scanner.\n",
      "     |      Return an scanner for the RE pattern in string.  The matches may be overlapped\n",
      "     |      if overlapped is True.\n",
      "     |  \n",
      "     |  search(...)\n",
      "     |      search(string, pos=None, endpos=None, concurrent=None, timeout=None) --> MatchObject or None.\n",
      "     |      Search through string looking for a match, and return a corresponding\n",
      "     |      match object instance.  Return None if no match is found.\n",
      "     |  \n",
      "     |  split(...)\n",
      "     |      split(string, maxsplit=0, concurrent=None, timeout=None) --> list.\n",
      "     |      Split string by the occurrences of pattern.\n",
      "     |  \n",
      "     |  splititer(...)\n",
      "     |      splititer(string, maxsplit=0, concurrent=None, timeout=None) --> iterator.\n",
      "     |      Return an iterator yielding the parts of a split string.\n",
      "     |  \n",
      "     |  sub(...)\n",
      "     |      sub(repl, string, count=0, flags=0, pos=None, endpos=None, concurrent=None, timeout=None) --> newstring\n",
      "     |      Return the string obtained by replacing the leftmost (or rightmost with a\n",
      "     |      reverse pattern) non-overlapping occurrences of pattern in string by the\n",
      "     |      replacement repl.\n",
      "     |  \n",
      "     |  subf(...)\n",
      "     |      subf(format, string, count=0, flags=0, pos=None, endpos=None, concurrent=None, timeout=None) --> newstring\n",
      "     |      Return the string obtained by replacing the leftmost (or rightmost with a\n",
      "     |      reverse pattern) non-overlapping occurrences of pattern in string by the\n",
      "     |      replacement format.\n",
      "     |  \n",
      "     |  subfn(...)\n",
      "     |      subfn(format, string, count=0, flags=0, pos=None, endpos=None, concurrent=None, timeout=None) --> (newstring, number of subs)\n",
      "     |      Return the tuple (new_string, number_of_subs_made) found by replacing the\n",
      "     |      leftmost (or rightmost with a reverse pattern) non-overlapping occurrences\n",
      "     |      of pattern with the replacement format.\n",
      "     |  \n",
      "     |  subn(...)\n",
      "     |      subn(repl, string, count=0, flags=0, pos=None, endpos=None, concurrent=None, timeout=None) --> (newstring, number of subs)\n",
      "     |      Return the tuple (new_string, number_of_subs_made) found by replacing the\n",
      "     |      leftmost (or rightmost with a reverse pattern) non-overlapping occurrences\n",
      "     |      of pattern with the replacement repl.\n",
      "     |  \n",
      "     |  ----------------------------------------------------------------------\n",
      "     |  Class methods defined here:\n",
      "     |  \n",
      "     |  __class_getitem__(...) from builtins.type\n",
      "     |      See PEP 585\n",
      "     |  \n",
      "     |  ----------------------------------------------------------------------\n",
      "     |  Data descriptors defined here:\n",
      "     |  \n",
      "     |  flags\n",
      "     |      The regex matching flags.\n",
      "     |  \n",
      "     |  groupindex\n",
      "     |      A dictionary mapping group names to group numbers.\n",
      "     |  \n",
      "     |  groups\n",
      "     |      The number of capturing groups in the pattern.\n",
      "     |  \n",
      "     |  named_lists\n",
      "     |      The named lists used by the regex.\n",
      "     |  \n",
      "     |  pattern\n",
      "     |      The pattern string from which the regex object was compiled.\n",
      "    \n",
      "    class RegexFlag(enum.IntFlag)\n",
      "     |  RegexFlag(value, names=None, *, module=None, qualname=None, type=None, start=1)\n",
      "     |  \n",
      "     |  An enumeration.\n",
      "     |  \n",
      "     |  Method resolution order:\n",
      "     |      RegexFlag\n",
      "     |      enum.IntFlag\n",
      "     |      builtins.int\n",
      "     |      enum.Flag\n",
      "     |      enum.Enum\n",
      "     |      builtins.object\n",
      "     |  \n",
      "     |  Data and other attributes defined here:\n",
      "     |  \n",
      "     |  A = regex.A\n",
      "     |  \n",
      "     |  B = regex.B\n",
      "     |  \n",
      "     |  D = regex.D\n",
      "     |  \n",
      "     |  E = regex.E\n",
      "     |  \n",
      "     |  F = regex.F\n",
      "     |  \n",
      "     |  I = regex.I\n",
      "     |  \n",
      "     |  L = regex.L\n",
      "     |  \n",
      "     |  M = regex.M\n",
      "     |  \n",
      "     |  P = regex.P\n",
      "     |  \n",
      "     |  R = regex.R\n",
      "     |  \n",
      "     |  S = regex.S\n",
      "     |  \n",
      "     |  T = regex.T\n",
      "     |  \n",
      "     |  U = regex.U\n",
      "     |  \n",
      "     |  V0 = regex.V0\n",
      "     |  \n",
      "     |  V1 = regex.V1\n",
      "     |  \n",
      "     |  W = regex.W\n",
      "     |  \n",
      "     |  X = regex.X\n",
      "     |  \n",
      "     |  ----------------------------------------------------------------------\n",
      "     |  Data descriptors inherited from enum.Enum:\n",
      "     |  \n",
      "     |  name\n",
      "     |      The name of the Enum member.\n",
      "     |  \n",
      "     |  value\n",
      "     |      The value of the Enum member.\n",
      "     |  \n",
      "     |  ----------------------------------------------------------------------\n",
      "     |  Readonly properties inherited from enum.EnumMeta:\n",
      "     |  \n",
      "     |  __members__\n",
      "     |      Returns a mapping of member name->value.\n",
      "     |      \n",
      "     |      This mapping lists all enum members, including aliases. Note that this\n",
      "     |      is a read-only view of the internal mapping.\n",
      "    \n",
      "    class Scanner(builtins.object)\n",
      "     |  Scanner(lexicon, flags=0)\n",
      "     |  \n",
      "     |  Methods defined here:\n",
      "     |  \n",
      "     |  __init__(self, lexicon, flags=0)\n",
      "     |      Initialize self.  See help(type(self)) for accurate signature.\n",
      "     |  \n",
      "     |  scan(self, string)\n",
      "     |  \n",
      "     |  ----------------------------------------------------------------------\n",
      "     |  Data descriptors defined here:\n",
      "     |  \n",
      "     |  __dict__\n",
      "     |      dictionary for instance variables (if defined)\n",
      "     |  \n",
      "     |  __weakref__\n",
      "     |      list of weak references to the object (if defined)\n",
      "    \n",
      "    class error(builtins.Exception)\n",
      "     |  error(message, pattern=None, pos=None)\n",
      "     |  \n",
      "     |  Exception raised for invalid regular expressions.\n",
      "     |  \n",
      "     |  Attributes:\n",
      "     |  \n",
      "     |      msg: The unformatted error message\n",
      "     |      pattern: The regular expression pattern\n",
      "     |      pos: The position in the pattern where compilation failed, or None\n",
      "     |      lineno: The line number where compilation failed, unless pos is None\n",
      "     |      colno: The column number where compilation failed, unless pos is None\n",
      "     |  \n",
      "     |  Method resolution order:\n",
      "     |      error\n",
      "     |      builtins.Exception\n",
      "     |      builtins.BaseException\n",
      "     |      builtins.object\n",
      "     |  \n",
      "     |  Methods defined here:\n",
      "     |  \n",
      "     |  __init__(self, message, pattern=None, pos=None)\n",
      "     |      Initialize self.  See help(type(self)) for accurate signature.\n",
      "     |  \n",
      "     |  ----------------------------------------------------------------------\n",
      "     |  Data descriptors defined here:\n",
      "     |  \n",
      "     |  __weakref__\n",
      "     |      list of weak references to the object (if defined)\n",
      "     |  \n",
      "     |  ----------------------------------------------------------------------\n",
      "     |  Static methods inherited from builtins.Exception:\n",
      "     |  \n",
      "     |  __new__(*args, **kwargs) from builtins.type\n",
      "     |      Create and return a new object.  See help(type) for accurate signature.\n",
      "     |  \n",
      "     |  ----------------------------------------------------------------------\n",
      "     |  Methods inherited from builtins.BaseException:\n",
      "     |  \n",
      "     |  __delattr__(self, name, /)\n",
      "     |      Implement delattr(self, name).\n",
      "     |  \n",
      "     |  __getattribute__(self, name, /)\n",
      "     |      Return getattr(self, name).\n",
      "     |  \n",
      "     |  __reduce__(...)\n",
      "     |      Helper for pickle.\n",
      "     |  \n",
      "     |  __repr__(self, /)\n",
      "     |      Return repr(self).\n",
      "     |  \n",
      "     |  __setattr__(self, name, value, /)\n",
      "     |      Implement setattr(self, name, value).\n",
      "     |  \n",
      "     |  __setstate__(...)\n",
      "     |  \n",
      "     |  __str__(self, /)\n",
      "     |      Return str(self).\n",
      "     |  \n",
      "     |  with_traceback(...)\n",
      "     |      Exception.with_traceback(tb) --\n",
      "     |      set self.__traceback__ to tb and return self.\n",
      "     |  \n",
      "     |  ----------------------------------------------------------------------\n",
      "     |  Data descriptors inherited from builtins.BaseException:\n",
      "     |  \n",
      "     |  __cause__\n",
      "     |      exception cause\n",
      "     |  \n",
      "     |  __context__\n",
      "     |      exception context\n",
      "     |  \n",
      "     |  __dict__\n",
      "     |  \n",
      "     |  __suppress_context__\n",
      "     |  \n",
      "     |  __traceback__\n",
      "     |  \n",
      "     |  args\n",
      "\n",
      "FUNCTIONS\n",
      "    Regex = compile(pattern, flags=0, ignore_unused=False, cache_pattern=None, **kwargs)\n",
      "        Compile a regular expression pattern, returning a pattern object.\n",
      "    \n",
      "    cache_all(value=True)\n",
      "        Sets whether to cache all patterns, even those are compiled explicitly.\n",
      "        Passing None has no effect, but returns the current setting.\n",
      "    \n",
      "    compile(pattern, flags=0, ignore_unused=False, cache_pattern=None, **kwargs)\n",
      "        Compile a regular expression pattern, returning a pattern object.\n",
      "    \n",
      "    escape(pattern, special_only=True, literal_spaces=False)\n",
      "        Escape a string for use as a literal in a pattern. If special_only is\n",
      "        True, escape only special characters, else escape all non-alphanumeric\n",
      "        characters. If literal_spaces is True, don't escape spaces.\n",
      "    \n",
      "    findall(pattern, string, flags=0, pos=None, endpos=None, overlapped=False, concurrent=None, timeout=None, ignore_unused=False, **kwargs)\n",
      "        Return a list of all matches in the string. The matches may be overlapped\n",
      "        if overlapped is True. If one or more groups are present in the pattern,\n",
      "        return a list of groups; this will be a list of tuples if the pattern has\n",
      "        more than one group. Empty matches are included in the result.\n",
      "    \n",
      "    finditer(pattern, string, flags=0, pos=None, endpos=None, overlapped=False, partial=False, concurrent=None, timeout=None, ignore_unused=False, **kwargs)\n",
      "        Return an iterator over all matches in the string. The matches may be\n",
      "        overlapped if overlapped is True. For each match, the iterator returns a\n",
      "        match object. Empty matches are included in the result.\n",
      "    \n",
      "    fullmatch(pattern, string, flags=0, pos=None, endpos=None, partial=False, concurrent=None, timeout=None, ignore_unused=False, **kwargs)\n",
      "        Try to apply the pattern against all of the string, returning a match\n",
      "        object, or None if no match was found.\n",
      "    \n",
      "    match(pattern, string, flags=0, pos=None, endpos=None, partial=False, concurrent=None, timeout=None, ignore_unused=False, **kwargs)\n",
      "        Try to apply the pattern at the start of the string, returning a match\n",
      "        object, or None if no match was found.\n",
      "    \n",
      "    purge()\n",
      "        Clear the regular expression cache\n",
      "    \n",
      "    search(pattern, string, flags=0, pos=None, endpos=None, partial=False, concurrent=None, timeout=None, ignore_unused=False, **kwargs)\n",
      "        Search through string looking for a match to the pattern, returning a\n",
      "        match object, or None if no match was found.\n",
      "    \n",
      "    split(pattern, string, maxsplit=0, flags=0, concurrent=None, timeout=None, ignore_unused=False, **kwargs)\n",
      "        Split the source string by the occurrences of the pattern, returning a\n",
      "        list containing the resulting substrings.  If capturing parentheses are used\n",
      "        in pattern, then the text of all groups in the pattern are also returned as\n",
      "        part of the resulting list.  If maxsplit is nonzero, at most maxsplit splits\n",
      "        occur, and the remainder of the string is returned as the final element of\n",
      "        the list.\n",
      "    \n",
      "    splititer(pattern, string, maxsplit=0, flags=0, concurrent=None, timeout=None, ignore_unused=False, **kwargs)\n",
      "        Return an iterator yielding the parts of a split string.\n",
      "    \n",
      "    sub(pattern, repl, string, count=0, flags=0, pos=None, endpos=None, concurrent=None, timeout=None, ignore_unused=False, **kwargs)\n",
      "        Return the string obtained by replacing the leftmost (or rightmost with a\n",
      "        reverse pattern) non-overlapping occurrences of the pattern in string by the\n",
      "        replacement repl. repl can be either a string or a callable; if a string,\n",
      "        backslash escapes in it are processed; if a callable, it's passed the match\n",
      "        object and must return a replacement string to be used.\n",
      "    \n",
      "    subf(pattern, format, string, count=0, flags=0, pos=None, endpos=None, concurrent=None, timeout=None, ignore_unused=False, **kwargs)\n",
      "        Return the string obtained by replacing the leftmost (or rightmost with a\n",
      "        reverse pattern) non-overlapping occurrences of the pattern in string by the\n",
      "        replacement format. format can be either a string or a callable; if a string,\n",
      "        it's treated as a format string; if a callable, it's passed the match object\n",
      "        and must return a replacement string to be used.\n",
      "    \n",
      "    subfn(pattern, format, string, count=0, flags=0, pos=None, endpos=None, concurrent=None, timeout=None, ignore_unused=False, **kwargs)\n",
      "        Return a 2-tuple containing (new_string, number). new_string is the string\n",
      "        obtained by replacing the leftmost (or rightmost with a reverse pattern)\n",
      "        non-overlapping occurrences of the pattern in the source string by the\n",
      "        replacement format. number is the number of substitutions that were made. format\n",
      "        can be either a string or a callable; if a string, it's treated as a format\n",
      "        string; if a callable, it's passed the match object and must return a\n",
      "        replacement string to be used.\n",
      "    \n",
      "    subn(pattern, repl, string, count=0, flags=0, pos=None, endpos=None, concurrent=None, timeout=None, ignore_unused=False, **kwargs)\n",
      "        Return a 2-tuple containing (new_string, number). new_string is the string\n",
      "        obtained by replacing the leftmost (or rightmost with a reverse pattern)\n",
      "        non-overlapping occurrences of the pattern in the source string by the\n",
      "        replacement repl. number is the number of substitutions that were made. repl\n",
      "        can be either a string or a callable; if a string, backslash escapes in it\n",
      "        are processed; if a callable, it's passed the match object and must return a\n",
      "        replacement string to be used.\n",
      "    \n",
      "    template(pattern, flags=0)\n",
      "        Compile a template pattern, returning a pattern object.\n",
      "\n",
      "DATA\n",
      "    A = regex.A\n",
      "    ASCII = regex.A\n",
      "    B = regex.B\n",
      "    BESTMATCH = regex.B\n",
      "    D = regex.D\n",
      "    DEBUG = regex.D\n",
      "    DEFAULT_VERSION = regex.V0\n",
      "    DOTALL = regex.S\n",
      "    E = regex.E\n",
      "    ENHANCEMATCH = regex.E\n",
      "    F = regex.F\n",
      "    FULLCASE = regex.F\n",
      "    I = regex.I\n",
      "    IGNORECASE = regex.I\n",
      "    L = regex.L\n",
      "    LOCALE = regex.L\n",
      "    M = regex.M\n",
      "    MULTILINE = regex.M\n",
      "    P = regex.P\n",
      "    POSIX = regex.P\n",
      "    R = regex.R\n",
      "    REVERSE = regex.R\n",
      "    S = regex.S\n",
      "    T = regex.T\n",
      "    TEMPLATE = regex.T\n",
      "    U = regex.U\n",
      "    UNICODE = regex.U\n",
      "    V0 = regex.V0\n",
      "    V1 = regex.V1\n",
      "    VERBOSE = regex.X\n",
      "    VERSION0 = regex.V0\n",
      "    VERSION1 = regex.V1\n",
      "    W = regex.W\n",
      "    WORD = regex.W\n",
      "    X = regex.X\n",
      "    __all__ = ['cache_all', 'compile', 'DEFAULT_VERSION', 'escape', 'finda...\n",
      "\n",
      "VERSION\n",
      "    2.5.116\n",
      "\n",
      "FILE\n",
      "    c:\\users\\user\\anaconda3\\lib\\site-packages\\regex\\__init__.py\n",
      "\n",
      "\n",
      "None\n"
     ]
    }
   ],
   "source": [
    "print(help(re))"
   ]
  },
  {
   "cell_type": "code",
   "execution_count": 20,
   "id": "da08ef1a",
   "metadata": {},
   "outputs": [
    {
     "ename": "SyntaxError",
     "evalue": "invalid syntax (344024087.py, line 2)",
     "output_type": "error",
     "traceback": [
      "\u001b[1;36m  Cell \u001b[1;32mIn[20], line 2\u001b[1;36m\u001b[0m\n\u001b[1;33m    print(i, and=\", \")\u001b[0m\n\u001b[1;37m             ^\u001b[0m\n\u001b[1;31mSyntaxError\u001b[0m\u001b[1;31m:\u001b[0m invalid syntax\n"
     ]
    }
   ],
   "source": [
    "for i in dir(re):\n",
    "    print(i, and=\", \")"
   ]
  },
  {
   "cell_type": "code",
   "execution_count": null,
   "id": "539883d0",
   "metadata": {},
   "outputs": [],
   "source": []
  }
 ],
 "metadata": {
  "kernelspec": {
   "display_name": "Python 3 (ipykernel)",
   "language": "python",
   "name": "python3"
  },
  "language_info": {
   "codemirror_mode": {
    "name": "ipython",
    "version": 3
   },
   "file_extension": ".py",
   "mimetype": "text/x-python",
   "name": "python",
   "nbconvert_exporter": "python",
   "pygments_lexer": "ipython3",
   "version": "3.10.9"
  }
 },
 "nbformat": 4,
 "nbformat_minor": 5
}
