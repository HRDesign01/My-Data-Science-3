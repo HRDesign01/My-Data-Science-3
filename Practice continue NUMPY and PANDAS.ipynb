{
 "cells": [
  {
   "cell_type": "markdown",
   "id": "5342004c",
   "metadata": {},
   "source": [
    "IMPORTING NUMPY"
   ]
  },
  {
   "cell_type": "code",
   "execution_count": 10,
   "id": "2a59f331",
   "metadata": {},
   "outputs": [],
   "source": [
    "import numpy as np"
   ]
  },
  {
   "cell_type": "code",
   "execution_count": 58,
   "id": "92688398",
   "metadata": {},
   "outputs": [],
   "source": [
    "import pandas as pd"
   ]
  },
  {
   "cell_type": "code",
   "execution_count": 11,
   "id": "8776f2d8",
   "metadata": {},
   "outputs": [
    {
     "data": {
      "text/plain": [
       "array([1, 2, 3])"
      ]
     },
     "execution_count": 11,
     "metadata": {},
     "output_type": "execute_result"
    }
   ],
   "source": [
    "numpy.array([1,2,3])"
   ]
  },
  {
   "cell_type": "code",
   "execution_count": 12,
   "id": "8c263b78",
   "metadata": {},
   "outputs": [
    {
     "data": {
      "text/plain": [
       "array([1, 2, 3, 4, 5, 6, 7])"
      ]
     },
     "execution_count": 12,
     "metadata": {},
     "output_type": "execute_result"
    }
   ],
   "source": [
    "numpy.array([1,2,3,4,5,6,7])"
   ]
  },
  {
   "cell_type": "markdown",
   "id": "b51110de",
   "metadata": {},
   "source": [
    "CREATING ARRAYS"
   ]
  },
  {
   "cell_type": "code",
   "execution_count": 13,
   "id": "9350c277",
   "metadata": {},
   "outputs": [],
   "source": [
    "a=numpy.array([1,2,3,4])"
   ]
  },
  {
   "cell_type": "code",
   "execution_count": 14,
   "id": "b0cfc5d3",
   "metadata": {},
   "outputs": [
    {
     "data": {
      "text/plain": [
       "array([1, 2, 3, 4])"
      ]
     },
     "execution_count": 14,
     "metadata": {},
     "output_type": "execute_result"
    }
   ],
   "source": [
    "a"
   ]
  },
  {
   "cell_type": "code",
   "execution_count": 15,
   "id": "3f110922",
   "metadata": {},
   "outputs": [
    {
     "data": {
      "text/plain": [
       "4"
      ]
     },
     "execution_count": 15,
     "metadata": {},
     "output_type": "execute_result"
    }
   ],
   "source": [
    "a.size"
   ]
  },
  {
   "cell_type": "markdown",
   "id": "536e4c21",
   "metadata": {},
   "source": [
    "CREATING ARRAYS IN COLUMN FORMS"
   ]
  },
  {
   "cell_type": "code",
   "execution_count": 16,
   "id": "4a7912d6",
   "metadata": {},
   "outputs": [],
   "source": [
    "p=np.array([[1,2],[3,4]])"
   ]
  },
  {
   "cell_type": "code",
   "execution_count": 17,
   "id": "aefd7044",
   "metadata": {},
   "outputs": [
    {
     "data": {
      "text/plain": [
       "array([[1, 2],\n",
       "       [3, 4]])"
      ]
     },
     "execution_count": 17,
     "metadata": {},
     "output_type": "execute_result"
    }
   ],
   "source": [
    "p"
   ]
  },
  {
   "cell_type": "code",
   "execution_count": 18,
   "id": "f851a198",
   "metadata": {},
   "outputs": [
    {
     "data": {
      "text/plain": [
       "array([[10, 20],\n",
       "       [30, 40]])"
      ]
     },
     "execution_count": 18,
     "metadata": {},
     "output_type": "execute_result"
    }
   ],
   "source": [
    "np.array([[10,20],[30,40]])"
   ]
  },
  {
   "cell_type": "code",
   "execution_count": 19,
   "id": "da59f1cf",
   "metadata": {},
   "outputs": [
    {
     "data": {
      "text/plain": [
       "array([1, 2, 3, 4])"
      ]
     },
     "execution_count": 19,
     "metadata": {},
     "output_type": "execute_result"
    }
   ],
   "source": [
    "np.array([1,2,3,4])"
   ]
  },
  {
   "cell_type": "code",
   "execution_count": 22,
   "id": "8bf5b182",
   "metadata": {},
   "outputs": [],
   "source": [
    "j=np.array([[1,2,3],[4,5,6],[7,8,9]])"
   ]
  },
  {
   "cell_type": "code",
   "execution_count": 23,
   "id": "aeb2c60d",
   "metadata": {},
   "outputs": [
    {
     "data": {
      "text/plain": [
       "array([[1, 2, 3],\n",
       "       [4, 5, 6],\n",
       "       [7, 8, 9]])"
      ]
     },
     "execution_count": 23,
     "metadata": {},
     "output_type": "execute_result"
    }
   ],
   "source": [
    "j"
   ]
  },
  {
   "cell_type": "code",
   "execution_count": 24,
   "id": "26949e53",
   "metadata": {},
   "outputs": [
    {
     "data": {
      "text/plain": [
       "(3, 3)"
      ]
     },
     "execution_count": 24,
     "metadata": {},
     "output_type": "execute_result"
    }
   ],
   "source": [
    "j.shape"
   ]
  },
  {
   "cell_type": "code",
   "execution_count": 25,
   "id": "228a1016",
   "metadata": {},
   "outputs": [
    {
     "data": {
      "text/plain": [
       "4"
      ]
     },
     "execution_count": 25,
     "metadata": {},
     "output_type": "execute_result"
    }
   ],
   "source": [
    "j.itemsize"
   ]
  },
  {
   "cell_type": "code",
   "execution_count": 68,
   "id": "697edbea",
   "metadata": {},
   "outputs": [],
   "source": [
    "j=np.array([1,2,3,4,5,6,7,8,9,10,11,12,13,14,15])"
   ]
  },
  {
   "cell_type": "code",
   "execution_count": 69,
   "id": "95fd932b",
   "metadata": {},
   "outputs": [
    {
     "data": {
      "text/plain": [
       "array([ 1,  2,  3,  4,  5,  6,  7,  8,  9, 10, 11, 12, 13, 14, 15])"
      ]
     },
     "execution_count": 69,
     "metadata": {},
     "output_type": "execute_result"
    }
   ],
   "source": [
    "j"
   ]
  },
  {
   "cell_type": "markdown",
   "id": "dd7ad7f8",
   "metadata": {},
   "source": [
    "RESHAPING ARRAYS "
   ]
  },
  {
   "cell_type": "code",
   "execution_count": 33,
   "id": "806809dd",
   "metadata": {},
   "outputs": [
    {
     "data": {
      "text/plain": [
       "array([[ 0,  1],\n",
       "       [ 2,  3],\n",
       "       [ 4,  5],\n",
       "       [ 6,  7],\n",
       "       [ 8,  9],\n",
       "       [10, 11],\n",
       "       [12, 13]])"
      ]
     },
     "execution_count": 33,
     "metadata": {},
     "output_type": "execute_result"
    }
   ],
   "source": [
    "np.arange(14).reshape(7,2)"
   ]
  },
  {
   "cell_type": "markdown",
   "id": "0cb460cc",
   "metadata": {},
   "source": [
    "GENERATING RANDOM ARRAYS"
   ]
  },
  {
   "cell_type": "code",
   "execution_count": 41,
   "id": "f6e31391",
   "metadata": {},
   "outputs": [],
   "source": [
    "g=np.random.random([2,3])"
   ]
  },
  {
   "cell_type": "code",
   "execution_count": 42,
   "id": "0665c9c4",
   "metadata": {},
   "outputs": [
    {
     "data": {
      "text/plain": [
       "array([[0.6366038 , 0.18854521, 0.96425226],\n",
       "       [0.39558325, 0.96772092, 0.70585972]])"
      ]
     },
     "execution_count": 42,
     "metadata": {},
     "output_type": "execute_result"
    }
   ],
   "source": [
    "g"
   ]
  },
  {
   "cell_type": "markdown",
   "id": "57a72550",
   "metadata": {},
   "source": [
    "GENERATING ARRAYS OF 1s"
   ]
  },
  {
   "cell_type": "code",
   "execution_count": 37,
   "id": "5da4a872",
   "metadata": {},
   "outputs": [],
   "source": [
    "f=np.ones([2,3])"
   ]
  },
  {
   "cell_type": "code",
   "execution_count": 38,
   "id": "f48f639a",
   "metadata": {},
   "outputs": [
    {
     "data": {
      "text/plain": [
       "array([[1., 1., 1.],\n",
       "       [1., 1., 1.]])"
      ]
     },
     "execution_count": 38,
     "metadata": {},
     "output_type": "execute_result"
    }
   ],
   "source": [
    "f"
   ]
  },
  {
   "cell_type": "code",
   "execution_count": 43,
   "id": "0b082c8f",
   "metadata": {},
   "outputs": [],
   "source": [
    "y=g+f"
   ]
  },
  {
   "cell_type": "code",
   "execution_count": 44,
   "id": "af531f78",
   "metadata": {},
   "outputs": [
    {
     "data": {
      "text/plain": [
       "array([[1.6366038 , 1.18854521, 1.96425226],\n",
       "       [1.39558325, 1.96772092, 1.70585972]])"
      ]
     },
     "execution_count": 44,
     "metadata": {},
     "output_type": "execute_result"
    }
   ],
   "source": [
    "y"
   ]
  },
  {
   "cell_type": "code",
   "execution_count": 45,
   "id": "bfe5417c",
   "metadata": {},
   "outputs": [],
   "source": [
    "t=np.array([12,13,14,15,16,17,18,19,20])"
   ]
  },
  {
   "cell_type": "code",
   "execution_count": 46,
   "id": "6cd98480",
   "metadata": {},
   "outputs": [
    {
     "data": {
      "text/plain": [
       "array([12, 13, 14, 15, 16, 17, 18, 19, 20])"
      ]
     },
     "execution_count": 46,
     "metadata": {},
     "output_type": "execute_result"
    }
   ],
   "source": [
    "t"
   ]
  },
  {
   "cell_type": "markdown",
   "id": "c1298441",
   "metadata": {},
   "source": [
    "SLICING ARRAYS FROM WHERE IT SHOULD START AND END"
   ]
  },
  {
   "cell_type": "markdown",
   "id": "8f716da4",
   "metadata": {},
   "source": [
    "SHOWING LAST 5 DATA"
   ]
  },
  {
   "cell_type": "code",
   "execution_count": 48,
   "id": "f6eab669",
   "metadata": {},
   "outputs": [
    {
     "data": {
      "text/plain": [
       "array([16, 17, 18, 19, 20])"
      ]
     },
     "execution_count": 48,
     "metadata": {},
     "output_type": "execute_result"
    }
   ],
   "source": [
    "t[-5:]"
   ]
  },
  {
   "cell_type": "markdown",
   "id": "7ed424d6",
   "metadata": {},
   "source": [
    "SHOWING LAST 5 MINUS LAST NUMBER"
   ]
  },
  {
   "cell_type": "code",
   "execution_count": 52,
   "id": "fe92dd4e",
   "metadata": {},
   "outputs": [
    {
     "data": {
      "text/plain": [
       "array([15, 16, 17, 18, 19])"
      ]
     },
     "execution_count": 52,
     "metadata": {},
     "output_type": "execute_result"
    }
   ],
   "source": [
    "t[-6:-1]"
   ]
  },
  {
   "cell_type": "code",
   "execution_count": 54,
   "id": "25f1e4b7",
   "metadata": {},
   "outputs": [],
   "source": [
    "g=np.arange(20)"
   ]
  },
  {
   "cell_type": "code",
   "execution_count": 55,
   "id": "cca6b060",
   "metadata": {},
   "outputs": [
    {
     "data": {
      "text/plain": [
       "array([ 0,  1,  2,  3,  4,  5,  6,  7,  8,  9, 10, 11, 12, 13, 14, 15, 16,\n",
       "       17, 18, 19])"
      ]
     },
     "execution_count": 55,
     "metadata": {},
     "output_type": "execute_result"
    }
   ],
   "source": [
    "g"
   ]
  },
  {
   "cell_type": "markdown",
   "id": "4aa35a74",
   "metadata": {},
   "source": [
    "STARTING FROM A PARTICULAR NUMBER"
   ]
  },
  {
   "cell_type": "code",
   "execution_count": 57,
   "id": "645f9c3e",
   "metadata": {},
   "outputs": [
    {
     "data": {
      "text/plain": [
       "array([ 6,  7,  8,  9, 10, 11, 12, 13, 14, 15, 16, 17, 18, 19])"
      ]
     },
     "execution_count": 57,
     "metadata": {},
     "output_type": "execute_result"
    }
   ],
   "source": [
    "g[6:]"
   ]
  },
  {
   "cell_type": "markdown",
   "id": "b83d1eb5",
   "metadata": {},
   "source": [
    "CREATING SERIES WITH PANDAS"
   ]
  },
  {
   "cell_type": "code",
   "execution_count": 60,
   "id": "b3e95e2b",
   "metadata": {},
   "outputs": [],
   "source": [
    "a=pd.Series([54,34,12,77,67], index=[1,2,3,4,5])"
   ]
  },
  {
   "cell_type": "code",
   "execution_count": 61,
   "id": "72bf2201",
   "metadata": {},
   "outputs": [
    {
     "data": {
      "text/plain": [
       "1    54\n",
       "2    34\n",
       "3    12\n",
       "4    77\n",
       "5    67\n",
       "dtype: int64"
      ]
     },
     "execution_count": 61,
     "metadata": {},
     "output_type": "execute_result"
    }
   ],
   "source": [
    "a"
   ]
  },
  {
   "cell_type": "code",
   "execution_count": 62,
   "id": "1a88d3c6",
   "metadata": {},
   "outputs": [],
   "source": [
    "y=pd.Series([2.4,4.7,1.4,6.6,7.8], index=[10,20,30,40,50])"
   ]
  },
  {
   "cell_type": "code",
   "execution_count": 63,
   "id": "e471c26e",
   "metadata": {},
   "outputs": [
    {
     "data": {
      "text/plain": [
       "10    2.4\n",
       "20    4.7\n",
       "30    1.4\n",
       "40    6.6\n",
       "50    7.8\n",
       "dtype: float64"
      ]
     },
     "execution_count": 63,
     "metadata": {},
     "output_type": "execute_result"
    }
   ],
   "source": [
    "y"
   ]
  },
  {
   "cell_type": "code",
   "execution_count": 64,
   "id": "3c608afa",
   "metadata": {},
   "outputs": [
    {
     "data": {
      "text/plain": [
       "4.7"
      ]
     },
     "execution_count": 64,
     "metadata": {},
     "output_type": "execute_result"
    }
   ],
   "source": [
    "y[20]"
   ]
  },
  {
   "cell_type": "code",
   "execution_count": 66,
   "id": "f2c2b187",
   "metadata": {},
   "outputs": [
    {
     "data": {
      "text/plain": [
       "10    2.4\n",
       "20    4.7\n",
       "dtype: float64"
      ]
     },
     "execution_count": 66,
     "metadata": {},
     "output_type": "execute_result"
    }
   ],
   "source": [
    "y[0:2]"
   ]
  },
  {
   "cell_type": "markdown",
   "id": "7596e634",
   "metadata": {},
   "source": [
    "CONVERTING A NUMPY ARRAY INTO PANDAS SERIES"
   ]
  },
  {
   "cell_type": "code",
   "execution_count": 70,
   "id": "af561a8b",
   "metadata": {},
   "outputs": [
    {
     "data": {
      "text/plain": [
       "0      1\n",
       "1      2\n",
       "2      3\n",
       "3      4\n",
       "4      5\n",
       "5      6\n",
       "6      7\n",
       "7      8\n",
       "8      9\n",
       "9     10\n",
       "10    11\n",
       "11    12\n",
       "12    13\n",
       "13    14\n",
       "14    15\n",
       "dtype: int32"
      ]
     },
     "execution_count": 70,
     "metadata": {},
     "output_type": "execute_result"
    }
   ],
   "source": [
    "pd.Series(j)"
   ]
  },
  {
   "cell_type": "markdown",
   "id": "02feade9",
   "metadata": {},
   "source": [
    "CREATING DICTIONARY"
   ]
  },
  {
   "cell_type": "code",
   "execution_count": 72,
   "id": "6865205a",
   "metadata": {},
   "outputs": [],
   "source": [
    "dict1={'sno':101, 'Name': 'ABC'}"
   ]
  },
  {
   "cell_type": "code",
   "execution_count": 73,
   "id": "654a9115",
   "metadata": {},
   "outputs": [
    {
     "data": {
      "text/plain": [
       "{'sno': 101, 'Name': 'ABC'}"
      ]
     },
     "execution_count": 73,
     "metadata": {},
     "output_type": "execute_result"
    }
   ],
   "source": [
    "dict1"
   ]
  },
  {
   "cell_type": "code",
   "execution_count": 74,
   "id": "ba72fc18",
   "metadata": {},
   "outputs": [
    {
     "data": {
      "text/plain": [
       "sno     101\n",
       "Name    ABC\n",
       "dtype: object"
      ]
     },
     "execution_count": 74,
     "metadata": {},
     "output_type": "execute_result"
    }
   ],
   "source": [
    "pd.Series(dict1)"
   ]
  },
  {
   "cell_type": "markdown",
   "id": "e4d40b13",
   "metadata": {},
   "source": [
    "DATAFRAME"
   ]
  },
  {
   "cell_type": "code",
   "execution_count": 75,
   "id": "3e941da0",
   "metadata": {},
   "outputs": [
    {
     "data": {
      "text/html": [
       "<div>\n",
       "<style scoped>\n",
       "    .dataframe tbody tr th:only-of-type {\n",
       "        vertical-align: middle;\n",
       "    }\n",
       "\n",
       "    .dataframe tbody tr th {\n",
       "        vertical-align: top;\n",
       "    }\n",
       "\n",
       "    .dataframe thead th {\n",
       "        text-align: right;\n",
       "    }\n",
       "</style>\n",
       "<table border=\"1\" class=\"dataframe\">\n",
       "  <thead>\n",
       "    <tr style=\"text-align: right;\">\n",
       "      <th></th>\n",
       "      <th>0</th>\n",
       "    </tr>\n",
       "  </thead>\n",
       "  <tbody>\n",
       "    <tr>\n",
       "      <th>0</th>\n",
       "      <td>1</td>\n",
       "    </tr>\n",
       "    <tr>\n",
       "      <th>1</th>\n",
       "      <td>2</td>\n",
       "    </tr>\n",
       "    <tr>\n",
       "      <th>2</th>\n",
       "      <td>3</td>\n",
       "    </tr>\n",
       "    <tr>\n",
       "      <th>3</th>\n",
       "      <td>4</td>\n",
       "    </tr>\n",
       "  </tbody>\n",
       "</table>\n",
       "</div>"
      ],
      "text/plain": [
       "   0\n",
       "0  1\n",
       "1  2\n",
       "2  3\n",
       "3  4"
      ]
     },
     "execution_count": 75,
     "metadata": {},
     "output_type": "execute_result"
    }
   ],
   "source": [
    "pd.DataFrame(data=[1,2,3,4])"
   ]
  },
  {
   "cell_type": "code",
   "execution_count": 82,
   "id": "c3273b0d",
   "metadata": {},
   "outputs": [],
   "source": [
    "b=[['Hammed',29],['Balikis',29],['Soliu',24]]"
   ]
  },
  {
   "cell_type": "code",
   "execution_count": 83,
   "id": "72592af1",
   "metadata": {},
   "outputs": [
    {
     "data": {
      "text/plain": [
       "[['Hammed', 29], ['Balikis', 29], ['Soliu', 24]]"
      ]
     },
     "execution_count": 83,
     "metadata": {},
     "output_type": "execute_result"
    }
   ],
   "source": [
    "b"
   ]
  },
  {
   "cell_type": "code",
   "execution_count": 84,
   "id": "3eceec10",
   "metadata": {},
   "outputs": [
    {
     "data": {
      "text/html": [
       "<div>\n",
       "<style scoped>\n",
       "    .dataframe tbody tr th:only-of-type {\n",
       "        vertical-align: middle;\n",
       "    }\n",
       "\n",
       "    .dataframe tbody tr th {\n",
       "        vertical-align: top;\n",
       "    }\n",
       "\n",
       "    .dataframe thead th {\n",
       "        text-align: right;\n",
       "    }\n",
       "</style>\n",
       "<table border=\"1\" class=\"dataframe\">\n",
       "  <thead>\n",
       "    <tr style=\"text-align: right;\">\n",
       "      <th></th>\n",
       "      <th>0</th>\n",
       "      <th>1</th>\n",
       "    </tr>\n",
       "  </thead>\n",
       "  <tbody>\n",
       "    <tr>\n",
       "      <th>0</th>\n",
       "      <td>Hammed</td>\n",
       "      <td>29</td>\n",
       "    </tr>\n",
       "    <tr>\n",
       "      <th>1</th>\n",
       "      <td>Balikis</td>\n",
       "      <td>29</td>\n",
       "    </tr>\n",
       "    <tr>\n",
       "      <th>2</th>\n",
       "      <td>Soliu</td>\n",
       "      <td>24</td>\n",
       "    </tr>\n",
       "  </tbody>\n",
       "</table>\n",
       "</div>"
      ],
      "text/plain": [
       "         0   1\n",
       "0   Hammed  29\n",
       "1  Balikis  29\n",
       "2    Soliu  24"
      ]
     },
     "execution_count": 84,
     "metadata": {},
     "output_type": "execute_result"
    }
   ],
   "source": [
    "pd.DataFrame(data=b)"
   ]
  },
  {
   "cell_type": "code",
   "execution_count": 85,
   "id": "8632acf0",
   "metadata": {},
   "outputs": [],
   "source": [
    "h=[['Mariam',27],['Balikis',29],['Hammed',29],['Habeeb',27],['Soliu',24]]"
   ]
  },
  {
   "cell_type": "code",
   "execution_count": 86,
   "id": "97c8e764",
   "metadata": {},
   "outputs": [
    {
     "data": {
      "text/plain": [
       "[['Mariam', 27],\n",
       " ['Balikis', 29],\n",
       " ['Hammed', 29],\n",
       " ['Habeeb', 27],\n",
       " ['Soliu', 24]]"
      ]
     },
     "execution_count": 86,
     "metadata": {},
     "output_type": "execute_result"
    }
   ],
   "source": [
    "h"
   ]
  },
  {
   "cell_type": "code",
   "execution_count": 87,
   "id": "438dbebd",
   "metadata": {},
   "outputs": [
    {
     "data": {
      "text/html": [
       "<div>\n",
       "<style scoped>\n",
       "    .dataframe tbody tr th:only-of-type {\n",
       "        vertical-align: middle;\n",
       "    }\n",
       "\n",
       "    .dataframe tbody tr th {\n",
       "        vertical-align: top;\n",
       "    }\n",
       "\n",
       "    .dataframe thead th {\n",
       "        text-align: right;\n",
       "    }\n",
       "</style>\n",
       "<table border=\"1\" class=\"dataframe\">\n",
       "  <thead>\n",
       "    <tr style=\"text-align: right;\">\n",
       "      <th></th>\n",
       "      <th>0</th>\n",
       "      <th>1</th>\n",
       "    </tr>\n",
       "  </thead>\n",
       "  <tbody>\n",
       "    <tr>\n",
       "      <th>0</th>\n",
       "      <td>Mariam</td>\n",
       "      <td>27</td>\n",
       "    </tr>\n",
       "    <tr>\n",
       "      <th>1</th>\n",
       "      <td>Balikis</td>\n",
       "      <td>29</td>\n",
       "    </tr>\n",
       "    <tr>\n",
       "      <th>2</th>\n",
       "      <td>Hammed</td>\n",
       "      <td>29</td>\n",
       "    </tr>\n",
       "    <tr>\n",
       "      <th>3</th>\n",
       "      <td>Habeeb</td>\n",
       "      <td>27</td>\n",
       "    </tr>\n",
       "    <tr>\n",
       "      <th>4</th>\n",
       "      <td>Soliu</td>\n",
       "      <td>24</td>\n",
       "    </tr>\n",
       "  </tbody>\n",
       "</table>\n",
       "</div>"
      ],
      "text/plain": [
       "         0   1\n",
       "0   Mariam  27\n",
       "1  Balikis  29\n",
       "2   Hammed  29\n",
       "3   Habeeb  27\n",
       "4    Soliu  24"
      ]
     },
     "execution_count": 87,
     "metadata": {},
     "output_type": "execute_result"
    }
   ],
   "source": [
    "pd.DataFrame(data=h)"
   ]
  },
  {
   "cell_type": "code",
   "execution_count": 90,
   "id": "5ee32ab5",
   "metadata": {},
   "outputs": [
    {
     "data": {
      "text/html": [
       "<div>\n",
       "<style scoped>\n",
       "    .dataframe tbody tr th:only-of-type {\n",
       "        vertical-align: middle;\n",
       "    }\n",
       "\n",
       "    .dataframe tbody tr th {\n",
       "        vertical-align: top;\n",
       "    }\n",
       "\n",
       "    .dataframe thead th {\n",
       "        text-align: right;\n",
       "    }\n",
       "</style>\n",
       "<table border=\"1\" class=\"dataframe\">\n",
       "  <thead>\n",
       "    <tr style=\"text-align: right;\">\n",
       "      <th></th>\n",
       "      <th>Name</th>\n",
       "      <th>Age</th>\n",
       "    </tr>\n",
       "  </thead>\n",
       "  <tbody>\n",
       "    <tr>\n",
       "      <th>10</th>\n",
       "      <td>Mariam</td>\n",
       "      <td>27</td>\n",
       "    </tr>\n",
       "    <tr>\n",
       "      <th>20</th>\n",
       "      <td>Balikis</td>\n",
       "      <td>29</td>\n",
       "    </tr>\n",
       "    <tr>\n",
       "      <th>30</th>\n",
       "      <td>Hammed</td>\n",
       "      <td>29</td>\n",
       "    </tr>\n",
       "    <tr>\n",
       "      <th>40</th>\n",
       "      <td>Habeeb</td>\n",
       "      <td>27</td>\n",
       "    </tr>\n",
       "    <tr>\n",
       "      <th>50</th>\n",
       "      <td>Soliu</td>\n",
       "      <td>24</td>\n",
       "    </tr>\n",
       "  </tbody>\n",
       "</table>\n",
       "</div>"
      ],
      "text/plain": [
       "       Name  Age\n",
       "10   Mariam   27\n",
       "20  Balikis   29\n",
       "30   Hammed   29\n",
       "40   Habeeb   27\n",
       "50    Soliu   24"
      ]
     },
     "execution_count": 90,
     "metadata": {},
     "output_type": "execute_result"
    }
   ],
   "source": [
    "pd.DataFrame(data=h,columns=['Name','Age'],index=[10,20,30,40,50])"
   ]
  },
  {
   "cell_type": "markdown",
   "id": "52d081d8",
   "metadata": {},
   "source": [
    "CONVERTING A DICTIONARY TO A DATAFRAME"
   ]
  },
  {
   "cell_type": "code",
   "execution_count": 92,
   "id": "28e967a6",
   "metadata": {},
   "outputs": [],
   "source": [
    "dict2={'sno':[1,2,3],'Name':['Hammed','Balikis','Habeeb'],'Age':[29,29,27]}"
   ]
  },
  {
   "cell_type": "code",
   "execution_count": 93,
   "id": "5bd90169",
   "metadata": {},
   "outputs": [
    {
     "data": {
      "text/plain": [
       "{'sno': [1, 2, 3],\n",
       " 'Name': ['Hammed', 'Balikis', 'Habeeb'],\n",
       " 'Age': [29, 29, 27]}"
      ]
     },
     "execution_count": 93,
     "metadata": {},
     "output_type": "execute_result"
    }
   ],
   "source": [
    "dict2"
   ]
  },
  {
   "cell_type": "code",
   "execution_count": 94,
   "id": "3e91124e",
   "metadata": {},
   "outputs": [
    {
     "data": {
      "text/html": [
       "<div>\n",
       "<style scoped>\n",
       "    .dataframe tbody tr th:only-of-type {\n",
       "        vertical-align: middle;\n",
       "    }\n",
       "\n",
       "    .dataframe tbody tr th {\n",
       "        vertical-align: top;\n",
       "    }\n",
       "\n",
       "    .dataframe thead th {\n",
       "        text-align: right;\n",
       "    }\n",
       "</style>\n",
       "<table border=\"1\" class=\"dataframe\">\n",
       "  <thead>\n",
       "    <tr style=\"text-align: right;\">\n",
       "      <th></th>\n",
       "      <th>sno</th>\n",
       "      <th>Name</th>\n",
       "      <th>Age</th>\n",
       "    </tr>\n",
       "  </thead>\n",
       "  <tbody>\n",
       "    <tr>\n",
       "      <th>0</th>\n",
       "      <td>1</td>\n",
       "      <td>Hammed</td>\n",
       "      <td>29</td>\n",
       "    </tr>\n",
       "    <tr>\n",
       "      <th>1</th>\n",
       "      <td>2</td>\n",
       "      <td>Balikis</td>\n",
       "      <td>29</td>\n",
       "    </tr>\n",
       "    <tr>\n",
       "      <th>2</th>\n",
       "      <td>3</td>\n",
       "      <td>Habeeb</td>\n",
       "      <td>27</td>\n",
       "    </tr>\n",
       "  </tbody>\n",
       "</table>\n",
       "</div>"
      ],
      "text/plain": [
       "   sno     Name  Age\n",
       "0    1   Hammed   29\n",
       "1    2  Balikis   29\n",
       "2    3   Habeeb   27"
      ]
     },
     "execution_count": 94,
     "metadata": {},
     "output_type": "execute_result"
    }
   ],
   "source": [
    "pd.DataFrame(data=dict2)"
   ]
  },
  {
   "cell_type": "code",
   "execution_count": null,
   "id": "b39b52f9",
   "metadata": {},
   "outputs": [],
   "source": []
  }
 ],
 "metadata": {
  "kernelspec": {
   "display_name": "Python 3 (ipykernel)",
   "language": "python",
   "name": "python3"
  },
  "language_info": {
   "codemirror_mode": {
    "name": "ipython",
    "version": 3
   },
   "file_extension": ".py",
   "mimetype": "text/x-python",
   "name": "python",
   "nbconvert_exporter": "python",
   "pygments_lexer": "ipython3",
   "version": "3.10.9"
  }
 },
 "nbformat": 4,
 "nbformat_minor": 5
}
